{
  "nbformat": 4,
  "nbformat_minor": 0,
  "metadata": {
    "colab": {
      "provenance": [],
      "private_outputs": true,
      "collapsed_sections": [
        "bJ11B2i9zQld",
        "NJn4Z8ltMWZC"
      ],
      "include_colab_link": true
    },
    "kernelspec": {
      "name": "python3",
      "display_name": "Python 3"
    }
  },
  "cells": [
    {
      "cell_type": "markdown",
      "metadata": {
        "id": "view-in-github",
        "colab_type": "text"
      },
      "source": [
        "<a href=\"https://colab.research.google.com/github/MUMADE-TADM/s1_python-gercevas/blob/main/ejercicioknn.ipynb\" target=\"_parent\"><img src=\"https://colab.research.google.com/assets/colab-badge.svg\" alt=\"Open In Colab\"/></a>"
      ]
    },
    {
      "cell_type": "markdown",
      "metadata": {
        "id": "hkOHP68hTuRZ"
      },
      "source": [
        "# K-Means\n",
        "Dado un conjunto $X=\\{e_1,\\dots,e_m \\}$\n",
        "\n",
        "Encontrar una K-partición o conjunto de centroides $Centroides=\\{ \\mu_1,\\ldots,\\mu_k \\}$\n",
        "\n",
        "Tal que hace mínimo $\\sum^m_{i=0}min_{\\mu_j \\in Centroides} (|| e_i -\\mu_j||^2)$"
      ]
    },
    {
      "cell_type": "markdown",
      "metadata": {
        "id": "ai2nA60-WWfA"
      },
      "source": [
        "## Algoritmo Paso a Paso"
      ]
    },
    {
      "cell_type": "code",
      "metadata": {
        "id": "eOKQoUzV4KvB"
      },
      "source": [
        "import numpy as np\n",
        "import pandas as pd\n",
        "import matplotlib.pyplot as plt\n",
        "from sklearn.datasets import make_blobs\n",
        "import random "
      ],
      "execution_count": null,
      "outputs": []
    },
    {
      "cell_type": "code",
      "metadata": {
        "id": "LweA5M2Y-p_J"
      },
      "source": [
        "plt.figure(figsize=(12, 12))"
      ],
      "execution_count": null,
      "outputs": []
    },
    {
      "cell_type": "markdown",
      "metadata": {
        "id": "OxNuYecnWe9P"
      },
      "source": [
        "Generamos datos 1500 sintéticos con 3 distribuciones gausianas aleatorias y los mostramos"
      ]
    },
    {
      "cell_type": "code",
      "metadata": {
        "id": "FTmlymgc5BTn"
      },
      "source": [
        "n_samples = 1500\n",
        "random_state = 170\n",
        "x, y = make_blobs(n_samples=n_samples, random_state=random_state)\n",
        "X=pd.DataFrame(x)\n",
        "plt.scatter(X.loc[:, 0], X.loc[:, 1], c=y)\n",
        "plt.title(\"Datos Iniciales\")"
      ],
      "execution_count": null,
      "outputs": []
    },
    {
      "cell_type": "markdown",
      "source": [
        "Los elementos de numeros aleatorias se fundamentan en una semilla. Si quiero mantenerlo, tengo que guardar la semilla.\n",
        "\n",
        "La x son todas las filas de la columna 0.\n",
        "La y son todas las columnas de la fila 0.\n",
        "Con make_blob -> me devuelve el x y la Y para pintarlos."
      ],
      "metadata": {
        "id": "RkpJQWSVQIHq"
      }
    },
    {
      "cell_type": "markdown",
      "metadata": {
        "id": "X5cPeZvTahiZ"
      },
      "source": [
        "###Inicialización"
      ]
    },
    {
      "cell_type": "markdown",
      "metadata": {
        "id": "a9lWnZn7W9YP"
      },
      "source": [
        "Generamos los primeros **Centroides** aleatorios"
      ]
    },
    {
      "cell_type": "code",
      "metadata": {
        "id": "b41vb-JU6kJG"
      },
      "source": [
        "K=3\n",
        "Centroides=np.random.random((K,2))*20.0-10.0\n",
        "plt.scatter(X.loc[:, 0], X.loc[:, 1])\n",
        "plt.scatter(Centroides[:,0], Centroides[:,1], marker='x',c=[0,1,2])\n",
        "plt.title(\"Primeros Centroides\")\n",
        "print(Centroides)"
      ],
      "execution_count": null,
      "outputs": []
    },
    {
      "cell_type": "markdown",
      "source": [
        "Tres datos aleatorios de dos dimensiones que este comprendidos entre 5.0 y 7.5.\n",
        "\n",
        "El primer random es el nombre de la libreria y el segundo es la función random. "
      ],
      "metadata": {
        "id": "ZX9XaRNhSiYP"
      }
    },
    {
      "cell_type": "markdown",
      "metadata": {
        "id": "e-9rDaIvX5Fk"
      },
      "source": [
        "Definimos la métrica $||x-\\mu||^2$ entre el centroide y los puntos para seleccionar el centroide más cercano para cada punto\n",
        "como la distancia euclídea entre el punto en dos dimensiones $x=(x_0,x_1)$ y el centroide $\\mu=(\\mu_0.\\mu_1)$\n",
        "\n",
        "$d(x,\\mu)=\\sqrt{(x_0 - \\mu_0)^2+(x_1 - \\mu_1)^2}$"
      ]
    },
    {
      "cell_type": "code",
      "metadata": {
        "id": "q1ytVppwApoO"
      },
      "source": [
        "def distancia(X1,C):\n",
        "  # C es el vector de Centroides\n",
        "  #X1 es el punto\n",
        "  # Construimos el vector de distancias del punto a cada centroide\n",
        "  arr=[(sum((X1 - c)**2))**0.5 for c in C]\n",
        "  #seleccionamos el índice (identificador del centroide) de mínimma distancia y los devolvemos\n",
        "  return np.where(arr == np.amin(arr))[0][0]"
      ],
      "execution_count": null,
      "outputs": []
    },
    {
      "cell_type": "markdown",
      "source": [
        "Vamos a definir una función distancia, que le vamos a dar un punto y un centroide. Vamos a contruir un arr para cada elemento de C. A ese elemento de C le resto el valor del punto (x1), lo sumo al cuadrado y lo eleveo al cruadrado. Distancia de cada punto a cada uno de los centroides. Me interesa la menor distancia. \n",
        "Me devuelve la posición del arr que es la posición mínima. Buscamos el centroide que esta más cerca de ese punto. "
      ],
      "metadata": {
        "id": "rIZvyYqrTB-Z"
      }
    },
    {
      "cell_type": "markdown",
      "metadata": {
        "id": "Opcrl-PHZ-On"
      },
      "source": [
        "Para todos los puntos calculamos cual es su centoide más cercano"
      ]
    },
    {
      "cell_type": "code",
      "metadata": {
        "id": "WOnk-eJOAWoH"
      },
      "source": [
        "X['C']=X.apply(distancia,axis=1,C=Centroides)"
      ],
      "execution_count": null,
      "outputs": []
    },
    {
      "cell_type": "markdown",
      "source": [
        "Apply -> hace -> aplica a cada fila del data frame la función que indicó. En este caso, la función distancia. Tenía dos parámetros, conjunto de centroides. La función apply, la voy a aplicar a cada uno de los datos. Los centroides que necesita la distancia. Quiero aplicar esta distancia por fila"
      ],
      "metadata": {
        "id": "I2ATu3e8Twnh"
      }
    },
    {
      "cell_type": "code",
      "metadata": {
        "id": "QfRwaVvKcOop"
      },
      "source": [
        "X['C'].hist()"
      ],
      "execution_count": null,
      "outputs": []
    },
    {
      "cell_type": "markdown",
      "metadata": {
        "id": "JHbcmhyUazeI"
      },
      "source": [
        "### Recálculo de los nuevos centroides"
      ]
    },
    {
      "cell_type": "code",
      "metadata": {
        "id": "kHt4UDg5XIfg"
      },
      "source": [
        "C=X.groupby(['C']).mean().values\n",
        "if(len(C)<len(Centroides)):\n",
        "  C=np.vstack([C,np.random.random((len(Centroides)-len(C),2))*20.0-10.0])\n",
        "plt.scatter(X.loc[:, 0], X.loc[:, 1],c=X['C'])\n",
        "plt.scatter(C[:,0], C[:,1], marker='x',c=[0,1,2])\n",
        "plt.title(\"Nueva asignación\")\n",
        "print(C)"
      ],
      "execution_count": null,
      "outputs": []
    },
    {
      "cell_type": "markdown",
      "source": [
        "Cojo el data frame, lo agrupo por el valor del centro, obtengo la media y tengo el nuevo centroide. La longitud de C, el número de grupos que tengo. Si la longitud de C, es mayor al grupo que tengo es porque me falta alguno.\n",
        "\n",
        "salen tres centroides. El if, es para que salgan tres centroides."
      ],
      "metadata": {
        "id": "msQnSgETU7gH"
      }
    },
    {
      "cell_type": "markdown",
      "metadata": {
        "id": "owObleGdbMtv"
      },
      "source": [
        "### **(A)** Reaguste de los datos con los nuevos centroides"
      ]
    },
    {
      "cell_type": "code",
      "metadata": {
        "id": "qB59YQPuaCEp"
      },
      "source": [
        "X['C']=X.iloc[:,:-1].apply(distancia,axis=1,C=C)"
      ],
      "execution_count": null,
      "outputs": []
    },
    {
      "cell_type": "markdown",
      "source": [
        "recalcular los centroides."
      ],
      "metadata": {
        "id": "Bod1iK0EV75P"
      }
    },
    {
      "cell_type": "markdown",
      "metadata": {
        "id": "FxHcCkcBb6TX"
      },
      "source": [
        "### **(B)** Recáculo de los nuevos centroides"
      ]
    },
    {
      "cell_type": "code",
      "metadata": {
        "id": "X5-UBeCxa1zv"
      },
      "source": [
        "C1=X.groupby(['C']).mean().values\n",
        "if(len(C1)<len(Centroides)):\n",
        "  C1=np.vstack([C1,np.random.random((len(Centroides)-len(C1),2))*20.0-10.0])\n"
      ],
      "execution_count": null,
      "outputs": []
    },
    {
      "cell_type": "code",
      "metadata": {
        "id": "0nRviKQxaWnH"
      },
      "source": [
        "plt.scatter(X.loc[:, 0], X.loc[:, 1],c=X['C'])\n",
        "plt.scatter(C1[:,0], C1[:,1], marker='x',c=[0,1,2])\n",
        "plt.title(\"Nueva asignación\")\n",
        "print(C1)"
      ],
      "execution_count": null,
      "outputs": []
    },
    {
      "cell_type": "code",
      "metadata": {
        "id": "DlI06oCvbnd_"
      },
      "source": [
        "diferencia=np.amax(abs(C-C1))\n",
        "print(C)\n",
        "C=C1\n",
        "print(diferencia)\n",
        "print(C)"
      ],
      "execution_count": null,
      "outputs": []
    },
    {
      "cell_type": "markdown",
      "source": [
        "Se observa la diferencia entre las dos etapas, previa y actual. Lo que hay en medio es la diferencia máximo entre los dos. \n",
        "Los intervalos, son la diferencia entre elemento y elemento. \n",
        "la diferencia máxima que hay es de 2.11"
      ],
      "metadata": {
        "id": "Btox7I8pWXAc"
      }
    },
    {
      "cell_type": "markdown",
      "metadata": {
        "id": "ltq-0t-zcXzX"
      },
      "source": [
        "Si la diferencia entre los nuevos centrodes C1 y los antíguos no es la adecuada volver a **(A)**"
      ]
    },
    {
      "cell_type": "markdown",
      "metadata": {
        "id": "7SLDAUk3jbhK"
      },
      "source": [
        "# Sciki-Learn [K-Mean](https://scikit-learn.org/stable/modules/generated/sklearn.cluster.KMeans.html#sklearn.cluster.KMeans)"
      ]
    },
    {
      "cell_type": "markdown",
      "source": [
        "Esta libreria es la base de todo el machine learning que hay en Python.\n",
        "\n",
        "Datos -> aprednizaje y test. El uno para construir mi modelo y el otro para controloar (train y test).\n",
        "\n",
        "Primero-> crear el modelo\n",
        "Segundo -> ajuste, algo como fit\n",
        "Predecir con el modelo (explotación del modelo)\n",
        "\n",
        "¿Qué hace K mean ++ ->? Hace una inspección de datos para ecnotnrar los que tienen una distribución buena de datos. Buscar centroides que se separen en tre ellos de forma uniforme y cubran el máximo de datos. \n",
        "\n",
        "Imporatante el número máximo de interacciones"
      ],
      "metadata": {
        "id": "OBQ6_IonXR2g"
      }
    },
    {
      "cell_type": "markdown",
      "metadata": {
        "id": "bJ11B2i9zQld"
      },
      "source": [
        "## Ejemplo"
      ]
    },
    {
      "cell_type": "code",
      "metadata": {
        "id": "LBB31RQKjjyE"
      },
      "source": [
        "# Author: Phil Roth <mr.phil.roth@gmail.com>\n",
        "# License: BSD 3 clause\n",
        "\n",
        "import numpy as np\n",
        "import matplotlib.pyplot as plt\n",
        "\n",
        "from sklearn.cluster import KMeans\n",
        "from sklearn.datasets import make_blobs\n",
        "\n",
        "plt.figure(figsize=(12, 12))\n",
        "\n",
        "n_samples = 1500\n",
        "random_state = 170\n",
        "X, y = make_blobs(n_samples=n_samples, random_state=random_state)"
      ],
      "execution_count": null,
      "outputs": []
    },
    {
      "cell_type": "code",
      "metadata": {
        "id": "YGuG_E-2j0fA"
      },
      "source": [
        "KM= KMeans(n_clusters=3, random_state=random_state)\n",
        "y_pred=KM.fit_predict(X)\n",
        "plt.scatter(X[:, 0], X[:, 1], c=y_pred)\n",
        "plt.title(\"Resultados\")"
      ],
      "execution_count": null,
      "outputs": []
    },
    {
      "cell_type": "markdown",
      "source": [
        "fase de ajuste-> el fin del modelo. \n",
        "KM modelo generado (k-means)\n",
        "Km.fit_predit(x) ajuste del modelo\n",
        "No necesitamos dividir en test and train porque ya lo estamos haciendo con fit. "
      ],
      "metadata": {
        "id": "6d3spCpjZOqB"
      }
    },
    {
      "cell_type": "markdown",
      "metadata": {
        "id": "JCvybUxlly5k"
      },
      "source": [
        "**Atributos** del Objeto K-means\n",
        "\n",
        "|Attributo|Significado|\n",
        "|---------|-----------|\n",
        "|**cluster_centers**| Coordenadas de los centroides|\n",
        "|**labels**|Grupo de cada punto|\n",
        "|**inertia**| Suma de los cuadrados de los puntos de cada grupo a su centroide|\n",
        "|**n_iter**| Número de iteraciones|\n"
      ]
    },
    {
      "cell_type": "markdown",
      "source": [
        "Atributos básicos-> el número de cluster de K.\n",
        "Print: los centros, el prototipo."
      ],
      "metadata": {
        "id": "dQeSX25cZrN7"
      }
    },
    {
      "cell_type": "code",
      "metadata": {
        "id": "25wMXvqelqTZ"
      },
      "source": [
        "print(KM.cluster_centers_)"
      ],
      "execution_count": null,
      "outputs": []
    },
    {
      "cell_type": "markdown",
      "metadata": {
        "id": "1yVXxQkwq0jg"
      },
      "source": [
        "## Pasaje del Titatic"
      ]
    },
    {
      "cell_type": "code",
      "metadata": {
        "id": "QcEKdzFqrFyh"
      },
      "source": [
        "%cd titanic.csv"
      ],
      "execution_count": null,
      "outputs": []
    },
    {
      "cell_type": "markdown",
      "source": [
        "Para subir archivos que estan desde el ordenador"
      ],
      "metadata": {
        "id": "2M4FmPmghtgP"
      }
    },
    {
      "cell_type": "code",
      "source": [
        "from google.colab import files\n",
        "uploaded = files.upload()"
      ],
      "metadata": {
        "id": "AaNzQIP5hL2n"
      },
      "execution_count": null,
      "outputs": []
    },
    {
      "cell_type": "code",
      "metadata": {
        "id": "2yZpAgkKq7Ct"
      },
      "source": [
        "import pandas as pd\n",
        "import matplotlib.pyplot as plt\n",
        "plt.figure(figsize=(12, 12))"
      ],
      "execution_count": null,
      "outputs": []
    },
    {
      "cell_type": "markdown",
      "metadata": {
        "id": "ualOqQIsrT6V"
      },
      "source": [
        "Leer los datos del pasaje del fichero titanic.csv mediante **pd.load_csv()**"
      ]
    },
    {
      "cell_type": "code",
      "metadata": {
        "id": "mU_R9rgbrnVF"
      },
      "source": [
        "titanic=pd.read_csv('titanic.csv')\n",
        "cluster_data = titanic[['Fare','Age']].copy(deep=True)\n",
        "cluster_data.dropna(axis=0, inplace=True)\n",
        "cluster_data.sort_values(by=['Fare','Age'], inplace=True)\n",
        "cluster_array = np.array(cluster_data)\n",
        "print(cluster_data.head())\n",
        "plt.scatter(cluster_array[:,0],cluster_array[:,1])"
      ],
      "execution_count": null,
      "outputs": []
    },
    {
      "cell_type": "markdown",
      "source": [
        "La segunda linea selecciona el año, y lo que le costo el pasaje. Las columnas con las que vamos a trabajar.\n",
        "\n",
        "El cluster data solamente para trabajar con un data frame que tenga esa columna de datos.\n",
        "\n",
        "drop.na eliminar todos los datos que tengan ... las caracteristicas especificadas.\n",
        "\n",
        "Una vez que tenemos los datos sin datos nulos, vamos a ordearnos por los dos campos. Por el precio del pasaje y por el año. En la primera fila, los que tienen menor costo y así.\n",
        "\n",
        "Cluster array, lo que me costó el pasaje y la edad que tienen. La abcisa es la edad, y la cordenada es lo que costo el pasaje."
      ],
      "metadata": {
        "id": "x82Xmsbnh40F"
      }
    },
    {
      "cell_type": "code",
      "metadata": {
        "id": "Hryy_QeNsh3i"
      },
      "source": [
        "KM=KMeans(n_clusters=2)\n",
        "y_pred=KM.fit_predict(cluster_array)\n",
        "plt.scatter(cluster_array[:,0],cluster_array[:,1],c=y_pred)\n",
        "print(KM.cluster_centers_)"
      ],
      "execution_count": null,
      "outputs": []
    },
    {
      "cell_type": "markdown",
      "source": [
        "Este es un clúster de dos. Identifica dos tipos de personas, la caracteristica que me da la agrupación es el precio del pasaje, el resto no me interesa. \n",
        "¿Qué ha marcado el cluster? La magnitud más grande. No tiene sentido por la diferencia de magnitud.\n"
      ],
      "metadata": {
        "id": "kg74ZXpyjBmi"
      }
    },
    {
      "cell_type": "markdown",
      "metadata": {
        "id": "QoA6sfCK-Q1C"
      },
      "source": [
        "## Normalizar los datos"
      ]
    },
    {
      "cell_type": "markdown",
      "metadata": {
        "id": "l3hPLLbG-Wsp"
      },
      "source": [
        "Entre los diferentes tipos de normalización de los valores de los datos que podemos hacer están:\n",
        "\n",
        "- Escalado frente al máximo : $x'=\\frac{x}{max(|X|)}$\n",
        "- Normalización entre el mínimo y máximo: $x'=\\frac{x-x_{min}}{x_{max}-x_{min}}$\n",
        "- Estandarización. Siendo $\\mu_x$, $\\sigma_x$  la media de y desviación estandar de  X: $x_{std}=\\frac{x-\\mu}{\\sigma}$"
      ]
    },
    {
      "cell_type": "markdown",
      "source": [
        "Escala entre 0 y 1. Seguridad de que no tengo valores superiores a 1.\n",
        "\n",
        "normalización estándar -> cualquiera de las magnitudes va a tener media 0 y desviación 1. Por lo cual, se podrá cosntruir modelos con sentido."
      ],
      "metadata": {
        "id": "67eWrFzTjy0k"
      }
    },
    {
      "cell_type": "markdown",
      "metadata": {
        "id": "11DTfVg1BKpS"
      },
      "source": [
        "### **Escalado con el máximo**"
      ]
    },
    {
      "cell_type": "code",
      "metadata": {
        "id": "3xmq8xllBRLh"
      },
      "source": [
        "from sklearn.preprocessing import MaxAbsScaler\n",
        "# creamos el objeto an abs_scaler\n",
        "abs_scaler = MaxAbsScaler()\n",
        "abs_scaler.fit(cluster_array)"
      ],
      "execution_count": null,
      "outputs": []
    },
    {
      "cell_type": "markdown",
      "source": [
        "paquete preprocessing"
      ],
      "metadata": {
        "id": "kD71dVM0kRaT"
      }
    },
    {
      "cell_type": "code",
      "metadata": {
        "id": "hTi4t7WICBFJ"
      },
      "source": [
        "# the maximum absolute values calculated by the fit method\n",
        "abs_scaler.max_abs_"
      ],
      "execution_count": null,
      "outputs": []
    },
    {
      "cell_type": "code",
      "metadata": {
        "id": "4TVuJbqdCPVR"
      },
      "source": [
        "#Escalamos los datos\n",
        "scaled_data = abs_scaler.transform(cluster_array)\n",
        "plt.scatter(scaled_data[:,0],scaled_data[:,1])"
      ],
      "execution_count": null,
      "outputs": []
    },
    {
      "cell_type": "code",
      "metadata": {
        "id": "SG2mxBALC3wl"
      },
      "source": [
        "KM=KMeans(n_clusters=2)\n",
        "y_pred=KM.fit_predict(scaled_data)\n",
        "plt.scatter(scaled_data[:,0],scaled_data[:,1],c=y_pred)\n",
        "print(KM.cluster_centers_)"
      ],
      "execution_count": null,
      "outputs": []
    },
    {
      "cell_type": "markdown",
      "source": [
        "Ahora nos divide por la variable más relevante que es la edad. Por lo que más agrupa, a diferencia del anterior. De agrupar por costo del billete, a aagrupar por la edad. Por un cambio, de escala."
      ],
      "metadata": {
        "id": "5rTrc0l5ktfl"
      }
    },
    {
      "cell_type": "code",
      "metadata": {
        "id": "YyX_D08MDa4x"
      },
      "source": [
        "abs_scaler.inverse_transform(KM.cluster_centers_)"
      ],
      "execution_count": null,
      "outputs": []
    },
    {
      "cell_type": "markdown",
      "metadata": {
        "id": "zS-WmXfaEBaS"
      },
      "source": [
        "### Mínimo-Maximo"
      ]
    },
    {
      "cell_type": "code",
      "metadata": {
        "id": "oyPUaUdpD3yS"
      },
      "source": [
        "from sklearn.preprocessing import MinMaxScaler\n",
        "# creamos el objeto an abs_scaler\n",
        "scaler = MinMaxScaler()\n",
        "scaler.fit(cluster_array)\n",
        "#Escalamos los datos\n",
        "scaled_data = abs_scaler.transform(cluster_array)\n",
        "plt.scatter(scaled_data[:,0],scaled_data[:,1])"
      ],
      "execution_count": null,
      "outputs": []
    },
    {
      "cell_type": "code",
      "metadata": {
        "id": "sCaeke4TEzI6"
      },
      "source": [
        "KM=KMeans(n_clusters=2)\n",
        "y_pred=KM.fit_predict(scaled_data)\n",
        "plt.scatter(scaled_data[:,0],scaled_data[:,1],c=y_pred)\n",
        "print(KM.cluster_centers_)"
      ],
      "execution_count": null,
      "outputs": []
    },
    {
      "cell_type": "code",
      "metadata": {
        "id": "ywqBAKUaE-SB"
      },
      "source": [
        "scaler.inverse_transform(KM.cluster_centers_)"
      ],
      "execution_count": null,
      "outputs": []
    },
    {
      "cell_type": "markdown",
      "metadata": {
        "id": "8F6y3gmFGxzC"
      },
      "source": [
        "### Estandarizar"
      ]
    },
    {
      "cell_type": "code",
      "metadata": {
        "id": "M8laxAEYG2Vp"
      },
      "source": [
        "from sklearn.preprocessing import StandardScaler\n",
        "# creamos el objeto an abs_scaler\n",
        "standar = StandardScaler()\n",
        "standar.fit(cluster_array)\n",
        "#Escalamos los datos\n",
        "scaled_data = standar.transform(cluster_array)\n",
        "plt.scatter(scaled_data[:,0],scaled_data[:,1])"
      ],
      "execution_count": null,
      "outputs": []
    },
    {
      "cell_type": "markdown",
      "source": [
        "Ya no va entre 0 y 1. La media de X es alrededor de 0 y la media de Y es 0. La desviación típica en ambos ejes es de 1.\n"
      ],
      "metadata": {
        "id": "YsHzqqtZlJyO"
      }
    },
    {
      "cell_type": "code",
      "metadata": {
        "id": "1tT541VXHUoV"
      },
      "source": [
        "KM=KMeans(n_clusters=2)\n",
        "y_pred=KM.fit_predict(scaled_data)\n",
        "plt.scatter(scaled_data[:,0],scaled_data[:,1],c=y_pred)\n",
        "print(KM.cluster_centers_)"
      ],
      "execution_count": null,
      "outputs": []
    },
    {
      "cell_type": "code",
      "metadata": {
        "id": "CIkztn9rHgzh"
      },
      "source": [
        "scaler.inverse_transform(KM.cluster_centers_)"
      ],
      "execution_count": null,
      "outputs": []
    },
    {
      "cell_type": "markdown",
      "metadata": {
        "id": "T7ioThU_xslx"
      },
      "source": [
        "## Flores Iris"
      ]
    },
    {
      "cell_type": "code",
      "metadata": {
        "id": "TunHJKn0xzN9"
      },
      "source": [
        "from sklearn import datasets\n",
        "import matplotlib.pyplot as plt\n",
        "from sklearn.cluster import KMeans\n",
        "X, y = datasets.load_iris(return_X_y=True)"
      ],
      "execution_count": null,
      "outputs": []
    },
    {
      "cell_type": "code",
      "metadata": {
        "id": "RMyp1ZuvyFWQ"
      },
      "source": [
        "KM = KMeans(n_clusters=3, random_state=1).fit(X)"
      ],
      "execution_count": null,
      "outputs": []
    },
    {
      "cell_type": "markdown",
      "source": [
        " fit encado el conjunto de datos, le aplico el ajuste."
      ],
      "metadata": {
        "id": "JmKPwbQfmRK4"
      }
    },
    {
      "cell_type": "code",
      "metadata": {
        "id": "BrY1IjMTyXCQ"
      },
      "source": [
        "KM.cluster_centers_"
      ],
      "execution_count": null,
      "outputs": []
    },
    {
      "cell_type": "code",
      "metadata": {
        "id": "3kyV1ikgy2LA"
      },
      "source": [
        "KM.inertia_"
      ],
      "execution_count": null,
      "outputs": []
    },
    {
      "cell_type": "markdown",
      "metadata": {
        "id": "OAPHJat_zlop"
      },
      "source": [
        "#Calidad de la partición. Coeficiente [**Silhouette**](https://scikit-learn.org/stable/modules/clustering.html#clustering-performance-evaluation).\n",
        "\n",
        "EL coefiente de  **Silhouette** está definido para cada ejemplo y consta de dos mediadas:\n",
        "\n",
        "- **a:** La media de la distancia entre un punto y **todos los puntos de su grupo**\n",
        "- **b:** La media de la distancia entre un punto y **todos los puntos de su grupo más cercano** distinto al suyo \n",
        "\n",
        "el coeficiente para un punto simple se calcula como: $s=\\frac{b-a}{max(a,b)}$\n",
        "\n",
        "El coeficiente global se calcula como la media de los coeficientes de cada punto.\n",
        "\n",
        "**Cuanto mayor es el valor del coefiente mejor es la agrupación**"
      ]
    },
    {
      "cell_type": "markdown",
      "source": [
        "relación que existe entre la similitud de los elementos con los elementos de su propia clase respecto a los de otras clases. Lo que se parecen a los de su propio grupo. \n",
        "La media es la distancia, por tanto debe ser pequeña. \n",
        "\n",
        "Coeficiente de agrupamiento:\n",
        "Similitud entre los elementos y se diferencia del resto de elementos."
      ],
      "metadata": {
        "id": "TMsxkPjmm_UL"
      }
    },
    {
      "cell_type": "code",
      "metadata": {
        "id": "WvjcPqOJ1200"
      },
      "source": [
        "from sklearn import metrics\n",
        "from sklearn.metrics import pairwise_distances\n",
        "from sklearn import datasets\n",
        "X, y = datasets.load_iris(return_X_y=True)"
      ],
      "execution_count": null,
      "outputs": []
    },
    {
      "cell_type": "markdown",
      "metadata": {
        "id": "SefPQnjX2SPh"
      },
      "source": [
        "Un uso normal del coeficiente de **Silhouette**"
      ]
    },
    {
      "cell_type": "code",
      "metadata": {
        "id": "DfcoSUQl2aom"
      },
      "source": [
        "import numpy as np\n",
        "from sklearn.cluster import KMeans\n",
        "kmeans_model = KMeans(n_clusters=3, random_state=1).fit(X)\n",
        "labels = kmeans_model.labels_\n",
        "metrics.silhouette_score(X, labels, metric='euclidean')"
      ],
      "execution_count": null,
      "outputs": []
    },
    {
      "cell_type": "markdown",
      "source": [
        "La distancia se la indico. Podemos cambiar la distancia. \n",
        "La incercia va mejorando aumentando el número de cluster. "
      ],
      "metadata": {
        "id": "mEvRQCb_nttv"
      }
    },
    {
      "cell_type": "markdown",
      "metadata": {
        "id": "VbnUb9NMMK66"
      },
      "source": [
        "# visualización"
      ]
    },
    {
      "cell_type": "code",
      "metadata": {
        "id": "xLrd9FXmKILq"
      },
      "source": [
        "url = 'https://archive.ics.uci.edu/ml/machine-learning-databases/wine/wine.data'\n",
        "cols =  ['Class', 'Alcohol', 'MalicAcid', 'Ash', 'AlcalinityOfAsh', 'Magnesium', 'TotalPhenols', \n",
        "         'Flavanoids', 'NonflavanoidPhenols', 'Proanthocyanins', 'ColorIntensity', \n",
        "         'Hue', 'OD280/OD315', 'Proline']\n",
        "data = pd.read_csv(url, names=cols)"
      ],
      "execution_count": null,
      "outputs": []
    },
    {
      "cell_type": "code",
      "metadata": {
        "id": "wamJfI-IK8QR"
      },
      "source": [
        "y=data['Class']\n",
        "X=data.loc[:,'Alcohol':]"
      ],
      "execution_count": null,
      "outputs": []
    },
    {
      "cell_type": "markdown",
      "metadata": {
        "id": "NJn4Z8ltMWZC"
      },
      "source": [
        "## Por piezas en dos dimensiones"
      ]
    },
    {
      "cell_type": "code",
      "metadata": {
        "id": "kEyI0ac4KScZ"
      },
      "source": [
        "# three different scatter series so the class labels in the legend are distinct\n",
        "plt.scatter(X[y==1]['Flavanoids'], X[y==1]['NonflavanoidPhenols'], label='Class 1', c='red')\n",
        "plt.scatter(X[y==2]['Flavanoids'], X[y==2]['NonflavanoidPhenols'], label='Class 2', c='blue')\n",
        "plt.scatter(X[y==3]['Flavanoids'], X[y==3]['NonflavanoidPhenols'], label='Class 3', c='lightgreen')\n",
        "\n",
        "# Prettify the graph\n",
        "plt.legend()\n",
        "plt.xlabel('Flavanoids')\n",
        "plt.ylabel('NonflavanoidPhenols')\n",
        "\n",
        "# display\n",
        "plt.show()"
      ],
      "execution_count": null,
      "outputs": []
    },
    {
      "cell_type": "markdown",
      "source": [
        "Asi estan distribuidos los vinos con respecto a la clase y flavanoids. "
      ],
      "metadata": {
        "id": "Ei_rIsZgolic"
      }
    },
    {
      "cell_type": "markdown",
      "metadata": {
        "id": "sIdGS_elOgQW"
      },
      "source": [
        "## Reducción de la dimensionalidad"
      ]
    },
    {
      "cell_type": "markdown",
      "metadata": {
        "id": "uoXcVW6qPjbR"
      },
      "source": [
        "### Algoritmo **PCA**"
      ]
    },
    {
      "cell_type": "code",
      "source": [
        "from sklearn.decomposition import PCA as sklearnPCA\n",
        "from sklearn.preprocessing import MinMaxScaler\n",
        "# creamos el objeto an abs_scaler\n",
        "scaler = MinMaxScaler()\n",
        "scaler.fit(X)\n",
        "X_norm=scaler.transform(X)"
      ],
      "metadata": {
        "id": "2WDnyDFAp2un"
      },
      "execution_count": null,
      "outputs": []
    },
    {
      "cell_type": "code",
      "source": [
        "pca = sklearnPCA(n_components = 2) #2-dimensiones LDA\n",
        "transformed = pd. DataFrame (pca.fit_transform(X_norm,y))\n",
        "plt.scatter(transformed[y==1][0], transformed[y==1][1], label='Class 1', c='red')\n",
        "plt.scatter(transformed[y==2][0], transformed[y==2][1], label='Class 2', c='blue')\n",
        "plt.scatter(transformed[y==3][0], transformed[y==3][1], label='Class 3', c='lightgreen')\n",
        "\n",
        "plt.legend()\n",
        "plt.show()"
      ],
      "metadata": {
        "id": "pVUNBgMVp0tx"
      },
      "execution_count": null,
      "outputs": []
    },
    {
      "cell_type": "markdown",
      "source": [
        "Una componente principal a partir de dos combinaciones, no tiene un sentido como en el anterior. Lo que si es verdad, me sirve para mostrar que el custer que he hecho es correcto. "
      ],
      "metadata": {
        "id": "HQAEhlrLp_rZ"
      }
    },
    {
      "cell_type": "markdown",
      "metadata": {
        "id": "DNZ8m6JLPYCD"
      },
      "source": [
        "### Algoritmo **LDA**"
      ]
    },
    {
      "cell_type": "code",
      "metadata": {
        "id": "xOFLKS8dPx4v"
      },
      "source": [
        "from sklearn.discriminant_analysis import LinearDiscriminantAnalysis as LDA\n",
        "from sklearn.preprocessing import MinMaxScaler\n",
        "# creamos el objeto an abs_scaler\n",
        "scaler = MinMaxScaler()\n",
        "scaler.fit(X)\n",
        "X_norm=scaler.transform(X)"
      ],
      "execution_count": null,
      "outputs": []
    },
    {
      "cell_type": "code",
      "metadata": {
        "id": "fjrEWtphQXfj"
      },
      "source": [
        "lda = LDA(n_components=2) #2-dimensional LDA\n",
        "lda_transformed = pd.DataFrame(lda.fit_transform(X_norm, y))\n",
        "\n",
        "# Plot all three series\n",
        "plt.scatter(lda_transformed[y==1][0], lda_transformed[y==1][1], label='Class 1', c='red')\n",
        "plt.scatter(lda_transformed[y==2][0], lda_transformed[y==2][1], label='Class 2', c='blue')\n",
        "plt.scatter(lda_transformed[y==3][0], lda_transformed[y==3][1], label='Class 3', c='lightgreen')\n",
        "\n",
        "# Display legend and show plot\n",
        "plt.legend(loc=3)\n",
        "plt.show()"
      ],
      "execution_count": null,
      "outputs": []
    },
    {
      "cell_type": "markdown",
      "source": [
        "Valores de decisión"
      ],
      "metadata": {
        "id": "TAvHonn9qhxC"
      }
    }
  ]
}