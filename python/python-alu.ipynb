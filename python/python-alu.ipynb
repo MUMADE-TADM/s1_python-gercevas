{
 "cells": [
  {
   "cell_type": "markdown",
   "metadata": {},
   "source": [
    "# Lenguaje __PYTHON 3.x__\n",
    "\n",
    "Referencia y documentación oficial [Pulsar](https://docs.python.org/es/3/index.html)"
   ]
  },
  {
   "cell_type": "markdown",
   "metadata": {},
   "source": [
    "## Variable __SIMPLES__"
   ]
  },
  {
   "cell_type": "markdown",
   "metadata": {},
   "source": [
    "### Cadenas __STRING__"
   ]
  },
  {
   "cell_type": "code",
   "execution_count": null,
   "metadata": {},
   "outputs": [],
   "source": [
    "cadena='Hola mundo'"
   ]
  },
  {
   "cell_type": "code",
   "execution_count": null,
   "metadata": {},
   "outputs": [],
   "source": [
    "nombre=input('Ingrese su nombre: ')\n",
    "print('Hola ',nombre)\n",
    "print(f'Hola {nombre}')"
   ]
  },
  {
   "cell_type": "code",
   "execution_count": null,
   "metadata": {},
   "outputs": [],
   "source": [
    "# Prime letra en mayuscula\n",
    "nombre=\n",
    "print(nombre)\n",
    "# Todo a mayúsculas\n",
    "nombre=\n",
    "print(nombre)\n",
    "# Todo a minúsculas\n",
    "nombre=\n",
    "print(nombre)\n",
    "# Semejante a capitalize\n",
    "nombre=\n",
    "print(nombre)\n",
    "# Cambia mayusculas a minusculas y viceversa\n",
    "nombre=\n",
    "print(nombre)\n",
    "# Elimina espacios en blanco al inicio y final de la cadena\n",
    "cadena=\" esto es una cadena  \"\n",
    "print(f'>{cadena}<')\n",
    "cadena=cadena.strip()\n",
    "print(f'>{cadena}<')\n",
    "#longitud de la cadena\n",
    "print(len(cadena))\n",
    "\n"
   ]
  },
  {
   "cell_type": "markdown",
   "metadata": {},
   "source": [
    "En la siguiente celda escriba un código de python que lea su nombre y sus apellidos y los muestre sin blancos al principio ni al final con un mensaje con el siguiente formato : \n",
    "\n",
    "**Hola** \\<Nombre\\>**, me gusta como suena** \\<Apellido\\> **como apellido**.\n",
    "\n",
    "- \\<Nombre\\> en formato con la primera letra en Mayúscula y el resto en minúsculas.\n",
    "- \\<Apellido\\> todo en mayúscula sin blancos al principio y al final.\n",
    "\n",
    "Utiliza f cadenas."
   ]
  },
  {
   "cell_type": "code",
   "execution_count": null,
   "metadata": {},
   "outputs": [],
   "source": [
    "#concatenar dos cadenas\n",
    "cadena1='Hola'\n",
    "cadena2=' mundo'\n",
    "cadena3=\n",
    "print(cadena3)"
   ]
  },
  {
   "cell_type": "markdown",
   "metadata": {},
   "source": [
    "Para saber más funcionalidades de las cadenas. [**Pulsa**](https://docs.python.org/es/3/library/string.html)"
   ]
  },
  {
   "cell_type": "markdown",
   "metadata": {},
   "source": [
    "### Números"
   ]
  },
  {
   "cell_type": "markdown",
   "metadata": {},
   "source": [
    "#### Enteros __INT__"
   ]
  },
  {
   "cell_type": "code",
   "execution_count": null,
   "metadata": {},
   "outputs": [],
   "source": [
    "numero=45\n",
    "cadena4=str(numero)\n",
    "print(cadena4)\n",
    "numero=int(cadena4)\n",
    "print(numero)"
   ]
  },
  {
   "cell_type": "code",
   "execution_count": null,
   "metadata": {},
   "outputs": [],
   "source": [
    "edad=int(input('Ingrese su edad: '))\n",
    "print(f'Su edad es {edad}')\n",
    "print(type(edad))\n",
    "\n",
    "dias=\n",
    "print(f'Usted tiene {dias} dias de vida')\n",
    "\n",
    "segundos=\n",
    "print(f'Usted tiene {segundos} segundos de vida')\n",
    "\n",
    "nanosegundos=segundos*1000000000\n",
    "print(f'Usted tiene {nanosegundos} nanosegundos de vida')\n"
   ]
  },
  {
   "cell_type": "code",
   "execution_count": null,
   "metadata": {},
   "outputs": [],
   "source": [
    "print(f'Potencia {5**2}')\n",
    "print(f'Raiz cuadrada {5 // 2}')\n",
    "print(f'Resto {5 % 2}')"
   ]
  },
  {
   "cell_type": "markdown",
   "metadata": {},
   "source": [
    "Calcula en la siguiente celda el número de semana, completas, que han trascurrido desde el nacimiento de la **Tierra** hace 4540 millones de años"
   ]
  },
  {
   "cell_type": "code",
   "execution_count": null,
   "metadata": {},
   "outputs": [],
   "source": []
  },
  {
   "cell_type": "markdown",
   "metadata": {},
   "source": [
    "#### Reales __FLOAT__"
   ]
  },
  {
   "cell_type": "code",
   "execution_count": null,
   "metadata": {},
   "outputs": [],
   "source": [
    "real=3.14159265\n",
    "print(f'{real}')"
   ]
  },
  {
   "cell_type": "code",
   "execution_count": null,
   "metadata": {},
   "outputs": [],
   "source": [
    "real=\n",
    "print(f'{real}')\n",
    "print(f'{real:.2f}')"
   ]
  },
  {
   "cell_type": "code",
   "execution_count": null,
   "metadata": {},
   "outputs": [],
   "source": [
    "#Cotización de dólares\n",
    "dolares=\n",
    "print(f'El valor en dólares es: {dolares*1.18}')"
   ]
  },
  {
   "cell_type": "code",
   "execution_count": null,
   "metadata": {},
   "outputs": [],
   "source": [
    "#float operadores\n",
    "numero1=float(input('Ingrese el primer número: '))\n",
    "numero2=float(input('Ingrese el segundo número: '))\n",
    "print(f'La suma es: {numero1+numero2}')\n",
    "print(f'La resta es: {numero1-numero2}')\n",
    "print(f'La multiplicación es: {numero1*numero2}')\n",
    "print(f'La división es: {numero1/numero2}')\n",
    "print(f'La división entera es: {numero1//numero2}')\n",
    "print(f'La resto es: {numero1%numero2}')\n",
    "print(f'La potencia es: {numero1**numero2}')\n"
   ]
  },
  {
   "cell_type": "markdown",
   "metadata": {},
   "source": [
    "El la siguiente celda calcula el área de un círculo, en m^2, pidiendo el radio del mismo en mm.\n",
    "\n",
    "Muestra el resultado con 2 decimales."
   ]
  },
  {
   "cell_type": "code",
   "execution_count": null,
   "metadata": {},
   "outputs": [],
   "source": []
  },
  {
   "cell_type": "markdown",
   "metadata": {},
   "source": [
    "### Lógicas __BOOL__"
   ]
  },
  {
   "cell_type": "code",
   "execution_count": null,
   "metadata": {},
   "outputs": [],
   "source": [
    "Verdadero=\n",
    "Falso=\n",
    "\n",
    "print(f'Y:{Verdadero and Verdadero}')\n",
    "print(f'Y:{Verdadero and Falso}')\n",
    "print(f'O:{Verdadero or Falso}')\n",
    "print(f'O:{Verdadero or Verdadero}')\n",
    "print(f'NO:{not Verdadero}')\n",
    "print(f'NO:{not Falso}')\n"
   ]
  },
  {
   "cell_type": "code",
   "execution_count": null,
   "metadata": {},
   "outputs": [],
   "source": [
    "#Operadores de comparación con números\n",
    "numero1=int(input('Ingrese el primer número: '))\n",
    "numero2=int(input('Ingrese el segundo número: '))\n",
    "print(f'{numero1} es mayor que {numero2}: {numero1>numero2}')\n",
    "print(f'{numero1} es menor que {numero2}: {numero1<numero2}')\n",
    "print(f'{numero1} es mayor o igual que {numero2}: {numero1>=numero2}')\n",
    "print(f'{numero1} es menor o igual que {numero2}: {numero1<=numero2}')\n",
    "print(f'{numero1} es igual que {numero2}: {numero1==numero2}')  \n",
    "print(f'{numero1} es diferente que {numero2}: {numero1!=numero2}')"
   ]
  },
  {
   "cell_type": "code",
   "execution_count": null,
   "metadata": {},
   "outputs": [],
   "source": [
    "#Operadores de comparación con cadenas\n",
    "cadena1=input('Ingrese la primera cadena: ')\n",
    "cadena2=input('Ingrese la segunda cadena: ')\n",
    "print(f'{cadena1} es mayor que {cadena2}: {cadena1>cadena2}')\n",
    "print(f'{cadena1} es menor que {cadena2}: {cadena1<cadena2}')\n",
    "print(f'{cadena1} es mayor o igual que {cadena2}: {cadena1>=cadena2}')\n",
    "print(f'{cadena1} es menor o igual que {cadena2}: {cadena1<=cadena2}')\n",
    "print(f'{cadena1} es igual que {cadena2}: {cadena1==cadena2}')\n",
    "print(f'{cadena1} es diferente que {cadena2}: {cadena1!=cadena2}')"
   ]
  },
  {
   "cell_type": "markdown",
   "metadata": {},
   "source": [
    "## Variables __COMPUESTAS__"
   ]
  },
  {
   "cell_type": "markdown",
   "metadata": {},
   "source": [
    "### Listas __LIST__"
   ]
  },
  {
   "cell_type": "code",
   "execution_count": null,
   "metadata": {},
   "outputs": [],
   "source": [
    "lista=['Hola','mundo','como','estas']\n",
    "print(lista)\n",
    "print(lista[0])\n",
    "print(lista[1])\n",
    "print()\n",
    "print()\n",
    "print(lista[-1])\n",
    "print(lista[-2])\n",
    "print()\n",
    "print(lista[-4])\n",
    "\n",
    "#Establecer una lista vacía\n",
    "lista=\n",
    "print(lista)\n",
    "\n"
   ]
  },
  {
   "cell_type": "code",
   "execution_count": null,
   "metadata": {},
   "outputs": [],
   "source": [
    "#Cambiar un valor de una lista\n",
    "lista=['Hola','mundo','como','estas']\n",
    "print(lista)\n",
    "lista[0]=\n",
    "print(lista)"
   ]
  },
  {
   "cell_type": "markdown",
   "metadata": {},
   "source": [
    "Slice de una lista identifica una sublista\n",
    "\n",
    "lista[\\<indx inferior\\>:\\<indx superios -1\\>]"
   ]
  },
  {
   "cell_type": "code",
   "execution_count": null,
   "metadata": {},
   "outputs": [],
   "source": [
    "#Rodajas de una lista\n",
    "lista=['Hola','mundo','como','estas']\n",
    "print(lista)\n",
    "print(f'elementos 0 y 1 :{ }')\n",
    "print(f'elementos 2 y 3 :{ }')\n",
    "print(f'Invertida {lista[::-1]}')"
   ]
  },
  {
   "cell_type": "code",
   "execution_count": null,
   "metadata": {},
   "outputs": [],
   "source": [
    "#Agregar elementos a una lista\n",
    "lista=['Hola','mundo','como','estas']\n",
    "print(lista)\n",
    "lista.\n",
    "print(lista)\n",
    "lista.\n",
    "print(lista)\n"
   ]
  },
  {
   "cell_type": "code",
   "execution_count": null,
   "metadata": {},
   "outputs": [],
   "source": [
    "#Eliminar elementos de una lista\n",
    "lista=['Hola','mundo','como','estas']\n",
    "print(lista)\n",
    "lista.\n",
    "print(lista)\n",
    "lista.\n",
    "print(lista)\n",
    "lista.\n",
    "print(lista)"
   ]
  },
  {
   "cell_type": "code",
   "execution_count": null,
   "metadata": {},
   "outputs": [],
   "source": [
    "#generar una lista con números\n",
    "lista=list(range(1,11))\n",
    "print(lista)\n",
    "\n",
    "#generar una lista a partir de una cadena\n",
    "lista=list('Hola mundo')\n",
    "print(lista)\n",
    "\n",
    "#divirdir una cadena en una lista\n",
    "cadena='Hola mundo'\n",
    "lista=cadena.\n",
    "print(lista)\n",
    "\n",
    "cadena='Hola mundo, ¿que crees que quiero?'\n",
    "lista=cadena.\n",
    "print(lista)\n",
    "\n",
    "#concatenar dos listas\n",
    "lista1=['Hola','mundo']\n",
    "lista2=['como','estas']\n",
    "lista3=\n",
    "print(lista3)"
   ]
  },
  {
   "cell_type": "code",
   "execution_count": null,
   "metadata": {},
   "outputs": [],
   "source": [
    "#Ordenar una lista\n",
    "lista=['Hola','mundo','como','estas']\n",
    "print(lista)\n",
    "lista.\n",
    "print(lista)\n",
    "lista.\n",
    "print(lista)"
   ]
  },
  {
   "cell_type": "code",
   "execution_count": null,
   "metadata": {},
   "outputs": [],
   "source": [
    "#Copiar una lista\n",
    "lista=['Hola','mundo','como','estas']\n",
    "print(lista)\n",
    "lista2=lista.\n",
    "print(lista2)"
   ]
  },
  {
   "cell_type": "code",
   "execution_count": null,
   "metadata": {},
   "outputs": [],
   "source": [
    "\n",
    "#Contar elementos de una lista\n",
    "lista=['Hola','mundo','como','estas']\n",
    "print(lista)\n",
    "print(f'El número de elementos es: { }')\n",
    "\n",
    "#Pertenencia de un elemento en una lista\n",
    "print(f'Hola está en la lista: { }')\n",
    "print(f'Hola está en la lista: { }')\n",
    "\n"
   ]
  },
  {
   "cell_type": "code",
   "execution_count": null,
   "metadata": {},
   "outputs": [],
   "source": [
    "#Buscar elementos de una lista\n",
    "lista=['Hola','mundo','como','estas']\n",
    "print(lista)\n",
    "print(f'Hola está en la lista: { }')"
   ]
  },
  {
   "cell_type": "code",
   "execution_count": null,
   "metadata": {},
   "outputs": [],
   "source": [
    "#Operadores de listas\n",
    "lista=['Hola','mundo','como','estas']\n",
    "print(lista)\n",
    "lista2=['Hola','mundo','como','estas']\n",
    "print(lista2)\n",
    "print(f'La lista 1 es igual a la lista 2: {}')\n",
    "print(f'La lista 1 es diferente a la lista 2: {}')"
   ]
  },
  {
   "cell_type": "markdown",
   "metadata": {},
   "source": [
    "En la siguiente celda pide una línea por teclado con el nombre y los dos apellidos y muestra una salida con los apellidos y el nombre con su primera letra mayúscula. "
   ]
  },
  {
   "cell_type": "markdown",
   "metadata": {},
   "source": [
    "Para saber más sobre listas [Pulsar](https://docs.python.org/3/tutorial/datastructures.html)"
   ]
  },
  {
   "cell_type": "markdown",
   "metadata": {},
   "source": [
    "### Tuplas __TUPLES__"
   ]
  },
  {
   "cell_type": "code",
   "execution_count": null,
   "metadata": {},
   "outputs": [],
   "source": [
    "tupla=('Hola','mundo','como','estas')\n",
    "print(tupla)\n",
    "tupla2=('Hola','mundo','como','estas')\n",
    "print(tupla2)\n",
    "print(f'La tupla 1 es igual a la tupla 2: {tupla==tupla2}')\n",
    "print(f'La tupla 1 es diferente a la tupla 2: {tupla!=tupla2}')"
   ]
  },
  {
   "cell_type": "code",
   "execution_count": null,
   "metadata": {},
   "outputs": [],
   "source": [
    "tupla=('Hola','mundo','como','estas')\n",
    "print(f'Primer elemento :{tupla[2]}')\n",
    "print(f'Ultimo elemento :{tupla[-1]}')\n",
    "print(f'Elementos 2 y 3 :{tupla[2:4]}')\n",
    "print(f'Invertida :{tupla[::-1]}')\n",
    "\n",
    "tupla[0]='Hola mundo'"
   ]
  },
  {
   "cell_type": "code",
   "execution_count": null,
   "metadata": {},
   "outputs": [],
   "source": [
    "#combina dos listas\n",
    "lista1=['Hola','mundo','como','estas']\n",
    "lista2=range(0,len(lista1))\n",
    "lista3=list()\n",
    "print(lista3)"
   ]
  },
  {
   "cell_type": "markdown",
   "metadata": {},
   "source": [
    "### Diccionarios __DIC__"
   ]
  },
  {
   "cell_type": "code",
   "execution_count": null,
   "metadata": {},
   "outputs": [],
   "source": [
    "diccionario={'Nombre':'Juan','Edad':20,'Carrera':'Ingenieria'}\n",
    "print(diccionario)\n",
    "print(f'Nombre: {diccionario[\"Nombre\"]}')\n",
    "print(f'Edad: {diccionario[\"Edad\"]}')\n",
    "print(f'Carrera: {diccionario[\"Carrera\"]}')"
   ]
  },
  {
   "cell_type": "code",
   "execution_count": null,
   "metadata": {},
   "outputs": [],
   "source": [
    "#diccionario vacio \n",
    "diccionario={}\n",
    "print(diccionario)"
   ]
  },
  {
   "cell_type": "code",
   "execution_count": null,
   "metadata": {},
   "outputs": [],
   "source": [
    "#asignación de un elemento\n",
    "diccionario\n",
    "print(diccionario)"
   ]
  },
  {
   "cell_type": "code",
   "execution_count": null,
   "metadata": {},
   "outputs": [],
   "source": [
    "#lista de índices /keys\n",
    "print(f'Lista de llaves:{diccionario.}')\n",
    "#lista de valores\n",
    "print(f'Lista de valores:{diccionario.}')\n",
    "#lista de pares\n",
    "print(f'Lista de pares:{diccionario.}')\n"
   ]
  },
  {
   "cell_type": "code",
   "execution_count": null,
   "metadata": {},
   "outputs": [],
   "source": [
    "#añadir un elemento con clave nueva\n",
    "diccionario\n",
    "print(diccionario)"
   ]
  },
  {
   "cell_type": "markdown",
   "metadata": {},
   "source": [
    "## Estructuras de control __CONTROL__"
   ]
  },
  {
   "cell_type": "markdown",
   "metadata": {},
   "source": [
    "### Decisión __IF__"
   ]
  },
  {
   "cell_type": "markdown",
   "metadata": {},
   "source": [
    "~~~\n",
    "if [condicion] :\n",
    "    [acción]\n",
    "else\n",
    "    [acción]\n",
    "~~~"
   ]
  },
  {
   "cell_type": "code",
   "execution_count": null,
   "metadata": {},
   "outputs": [],
   "source": [
    "apellido=input('Ingrese su apellido (sin acentos): ').upper()\n",
    "if apellido in ['JIMENEZ','LOPEZ','GARCIA']:\n",
    "    print(f'Premio por apedillarse {apellido}')\n",
    "else:\n",
    "    print(f'No se le otorga el premio a {apellido}')\n",
    "\n",
    "print(f'El número de caracteres es: {len(apellido)}')"
   ]
  },
  {
   "cell_type": "markdown",
   "metadata": {},
   "source": [
    "~~~\n",
    "if [condición1]:\n",
    "    [acción 1]\n",
    "elif [condicción 2]:\n",
    "    [acción 2]\n",
    ".................\n",
    "elif [condición n]:\n",
    "    [acción n]\n",
    "else:\n",
    "    [acción]\n",
    "~~~"
   ]
  },
  {
   "cell_type": "code",
   "execution_count": null,
   "metadata": {},
   "outputs": [],
   "source": [
    "fecha=input('Ingrese su fecha de nacimiento (dd/mm/aaaa): ').split('/')\n",
    "dia,mes=int(fecha[0]),int(fecha[1])\n",
    "#calcular tu signo del zodiaco\n",
    "if mes==1:\n",
    "    if dia<=19:\n",
    "        print('Capricornio')\n",
    "    else:\n",
    "        print('Acuario')\n",
    "elif mes==2:\n",
    "    if dia<=18:\n",
    "        print('Acuario')\n",
    "    else:\n",
    "        print('Piscis')\n",
    "elif mes==3:\n",
    "    if dia<=20:\n",
    "        print('Piscis')\n",
    "    else:\n",
    "        print('Aries')\n",
    "elif mes==4:\n",
    "    if dia<=19:\n",
    "        print('Aries')\n",
    "    else:\n",
    "        print('Tauro')\n",
    "elif mes==5:\n",
    "    if dia<=20:\n",
    "        print('Tauro')\n",
    "    else:\n",
    "        print('Geminis')\n",
    "elif mes==6:\n",
    "    if dia<=20:\n",
    "        print('Geminis')\n",
    "    else:\n",
    "        print('Cancer')\n",
    "elif mes==7:\n",
    "    if dia<=22:\n",
    "        print('Cancer')\n",
    "    else:\n",
    "        print('Leo')\n",
    "elif mes==8:\n",
    "    if dia<=22:\n",
    "        print('Leo')\n",
    "    else:\n",
    "        print('Virgo')\n",
    "elif mes==9:\n",
    "    if dia<=22:\n",
    "        print('Virgo')\n",
    "    else:\n",
    "        print('Libra')\n",
    "elif mes==10:\n",
    "    if dia<=22:\n",
    "        print('Libra')\n",
    "    else:\n",
    "        print('Escorpio')\n",
    "elif mes==11:\n",
    "    if dia<=21:\n",
    "        print('Escorpio')\n",
    "    else:\n",
    "        print('Sagitario')\n",
    "else:\n",
    "    if dia<=21:\n",
    "        print('Sagitario')\n",
    "    else:\n",
    "        print('Capricornio')\n",
    "    "
   ]
  },
  {
   "cell_type": "markdown",
   "metadata": {},
   "source": [
    "### Bucles __FOR/WHILE__"
   ]
  },
  {
   "cell_type": "markdown",
   "metadata": {},
   "source": [
    "~~~\n",
    "for [variable] in [lista/conjunto]:\n",
    "    [acciones]\n",
    "~~~"
   ]
  },
  {
   "cell_type": "code",
   "execution_count": null,
   "metadata": {},
   "outputs": [],
   "source": [
    "for numero in range():\n",
    "    print(numero)"
   ]
  },
  {
   "cell_type": "markdown",
   "metadata": {},
   "source": [
    "**Saltarse** algún elemento **continue**"
   ]
  },
  {
   "cell_type": "code",
   "execution_count": null,
   "metadata": {},
   "outputs": [],
   "source": [
    "for numero in range(10,0,-1):\n",
    "    if numero%2==0:\n",
    "        \n",
    "    print(numero)"
   ]
  },
  {
   "cell_type": "markdown",
   "metadata": {},
   "source": [
    "**Terminar antes** del último elemento **break**"
   ]
  },
  {
   "cell_type": "code",
   "execution_count": null,
   "metadata": {},
   "outputs": [],
   "source": [
    "for mes in ['Enero','Febrero','Marzo','Abril','Mayo','Junio','Julio','Agosto','Septiembre','Octubre','Noviembre','Diciembre']:\n",
    "    if mes=='Julio':\n",
    "        \n",
    "    print(mes)"
   ]
  },
  {
   "cell_type": "markdown",
   "metadata": {},
   "source": [
    "Costrucción compacta de listas"
   ]
  },
  {
   "cell_type": "code",
   "execution_count": null,
   "metadata": {},
   "outputs": [],
   "source": [
    "numeros=[1,2,3,4,5,6,7,8,9,10]\n",
    "listaPares=[num for num in numeros ]\n",
    "print(listaPares)\n"
   ]
  },
  {
   "cell_type": "markdown",
   "metadata": {},
   "source": [
    "¿Cuales son los meses que sumando la longitud de su nombre al número de mes , comenzando desde 1, obtenemos un valor par?"
   ]
  },
  {
   "cell_type": "code",
   "execution_count": null,
   "metadata": {},
   "outputs": [],
   "source": [
    "meses=['Enero','Febrero','Marzo','Abril','Mayo','Junio','Julio','Agosto','Septiembre','Octubre','Noviembre','Diciembre']\n",
    "numero=list(range(1,13))\n",
    "longitud=[]\n",
    "meses_y_numero=list(zip(longitud,numero))\n",
    "print(meses_y_numero)\n",
    "solucion=[meses[mes-1] for (lg,mes) in   if (lg+mes)%2==0]\n",
    "print(solucion)\n"
   ]
  },
  {
   "cell_type": "markdown",
   "metadata": {},
   "source": [
    "Lista todas las combinaciones de 3 colores distintos entre ['rojo','verde','azul']"
   ]
  },
  {
   "cell_type": "code",
   "execution_count": null,
   "metadata": {},
   "outputs": [],
   "source": [
    "colores=['rojo','verde','azul']\n",
    "[(color1,color2,color3) for color1 in colores for color2 in colores for color3 in colores if ]"
   ]
  },
  {
   "cell_type": "markdown",
   "metadata": {},
   "source": [
    "~~~\n",
    "while [condición]:\n",
    "    [acción]\n",
    "~~~"
   ]
  },
  {
   "cell_type": "markdown",
   "metadata": {},
   "source": [
    "Calcular la sucesión de Fibonacci:\n",
    "\n",
    "- $s_0 = 0$\n",
    "- $s_1 = 1$\n",
    "- $s_n=s_{n-1}+s_{n-2}$"
   ]
  },
  {
   "cell_type": "code",
   "execution_count": null,
   "metadata": {},
   "outputs": [],
   "source": [
    "#calcula la función de fibonacci\n",
    "n_0=0\n",
    "n_1=1\n",
    "n=int(input('Ingrese el número de elementos de la serie: '))\n",
    "serie=[n_0,n_1]\n",
    "while <n:\n",
    "    n_2=n_0+n_1\n",
    "    n_0=n_1\n",
    "    \n",
    "    serie.append(n_2)\n",
    "print(serie)\n",
    "\n"
   ]
  },
  {
   "cell_type": "markdown",
   "metadata": {},
   "source": [
    "## Funciones __DEF__"
   ]
  },
  {
   "cell_type": "markdown",
   "metadata": {},
   "source": [
    "~~~\n",
    "def [nombre] ([param1]:[tipo], ... , [paramN]:[tipo]]) ->[tipo]:\n",
    "    [acciones]\n",
    "    return [valor]\n",
    "~~~"
   ]
  },
  {
   "cell_type": "code",
   "execution_count": null,
   "metadata": {},
   "outputs": [],
   "source": [
    "def fibonacci(n:int)-> list:\n",
    "    n_0=0\n",
    "    n_1=1\n",
    "    serie=[n_0,n_1]\n",
    "    while <n:\n",
    "        n_2=n_0+n_1\n",
    "        n_0=n_1\n",
    "        \n",
    "        serie.append(n_2)\n",
    "    return serie"
   ]
  },
  {
   "cell_type": "code",
   "execution_count": null,
   "metadata": {},
   "outputs": [],
   "source": [
    "fibonacci(5)"
   ]
  },
  {
   "cell_type": "markdown",
   "metadata": {},
   "source": [
    "[Criba de Eratostenes](https://es.wikipedia.org/wiki/Criba_de_Erat%C3%B3stenes)"
   ]
  },
  {
   "cell_type": "code",
   "execution_count": null,
   "metadata": {},
   "outputs": [],
   "source": [
    "#criba de eratostenes\n",
    "# Paraḿetros por defecto\n",
    "def criba_eratostenes(n:int=20)-> list:\n",
    "    lista=[True]*n\n",
    "    lista[0]=False\n",
    "    lista[1]=False\n",
    "    for i in range(2,n):\n",
    "        if lista[i]:\n",
    "            for j in :\n",
    "                lista[j]=False\n",
    "    return [i for i in range(n) if lista[i]]"
   ]
  },
  {
   "cell_type": "code",
   "execution_count": null,
   "metadata": {},
   "outputs": [],
   "source": [
    "print(criba_eratostenes())\n",
    "print(criba_eratostenes(50))"
   ]
  },
  {
   "cell_type": "code",
   "execution_count": null,
   "metadata": {},
   "outputs": [],
   "source": [
    "#Parámetros opcionales y múltiples\n",
    "def interes(capital:float,interes:float=0.05,periodo:int=1)-> float:\n",
    "    return capital*(1+interes)**periodo"
   ]
  },
  {
   "cell_type": "code",
   "execution_count": null,
   "metadata": {},
   "outputs": [],
   "source": [
    "#invocación mediante el uso del nombre de los parámetros\n",
    "print(interes(100,periodo=5,))"
   ]
  },
  {
   "cell_type": "markdown",
   "metadata": {},
   "source": [
    "## Módulos __IMPORT__"
   ]
  },
  {
   "cell_type": "markdown",
   "metadata": {},
   "source": [
    "~~~\n",
    "from [libreria] import [elementos]\n",
    "\n",
    "import [libreria] as [nuevonombre]\n",
    "~~~"
   ]
  },
  {
   "cell_type": "code",
   "execution_count": null,
   "metadata": {},
   "outputs": [],
   "source": [
    "#inclusión de un módulo sus elementos se invoca con el nombre del módulo\n",
    "\n",
    "\n",
    "def area_circulo(radio:float)-> float:\n",
    "    return math.pi*radio**2\n",
    "\n",
    "print(area_circulo(5))"
   ]
  },
  {
   "cell_type": "code",
   "execution_count": null,
   "metadata": {},
   "outputs": [],
   "source": [
    "#inclusión de un módulo renombrádolo\n",
    "import math \n",
    "\n",
    "def area_circulo(radio:float)-> float:\n",
    "    return m.pi*radio**2\n",
    "\n",
    "print(area_circulo(5))\n"
   ]
  },
  {
   "cell_type": "code",
   "execution_count": null,
   "metadata": {},
   "outputs": [],
   "source": [
    "#icluir algún elemento de un módulo\n",
    "\n",
    "\n",
    "def area_circulo(radio:float)-> float:\n",
    "    return pi*radio**2\n",
    "\n",
    "print(area_circulo(5))"
   ]
  },
  {
   "cell_type": "code",
   "execution_count": null,
   "metadata": {},
   "outputs": [],
   "source": [
    "#incluir algún elemento de un módulo renombrándolo\n",
    "from math import pi \n",
    "\n",
    "def area_circulo(radio:float)-> float:\n",
    "    return pi_math*radio**2\n",
    "\n",
    "print(area_circulo(5))\n"
   ]
  },
  {
   "cell_type": "code",
   "execution_count": null,
   "metadata": {},
   "outputs": [],
   "source": [
    "#incluir todos los elementos de un módulo\n",
    "#Utilizarlos directamente sin referencia al modulo\n",
    "from math import *\n",
    "\n",
    "def area_circulo(radio:float)-> float:\n",
    "    return pi*radio**2\n",
    "\n",
    "print()\n"
   ]
  },
  {
   "cell_type": "markdown",
   "metadata": {},
   "source": [
    "## Clases __CLASS__"
   ]
  },
  {
   "cell_type": "markdown",
   "metadata": {},
   "source": [
    "~~~\n",
    "class [Nombre] ([hereda]):\n",
    "\n",
    "    def __init__ (self, ....):\n",
    "\n",
    "    def [metodo] (self, ...):\n",
    "~~~"
   ]
  },
  {
   "cell_type": "code",
   "execution_count": null,
   "metadata": {},
   "outputs": [],
   "source": [
    "class Persona:\n",
    "    def __init__(self,nombre:str,edad:int):\n",
    "        self.nombre=nombre\n",
    "        self.edad=edad\n",
    "    def saludar(self):\n",
    "        print(f'Hola, me llamo {self.nombre} y tengo {self.edad} años')\n",
    "\n",
    "\n",
    "class Empleado(Persona):\n",
    "    def __init__(self,nombre:str,edad:int,sueldo:float):\n",
    "        super().__init__(nombre,edad)\n",
    "        self.sueldo=sueldo\n",
    "    def saludar(self):\n",
    "        super().saludar()\n",
    "        print(f'Mi sueldo es de {self.sueldo}')\n",
    "\n",
    "yo=\n",
    "yo.saludar()\n",
    "\n",
    "miAmigo=\n",
    "miAmigo.saludar()    "
   ]
  }
 ],
 "metadata": {
  "interpreter": {
   "hash": "0e0506e63b169ae815bdb0eedf2fdd2560ecee6ebc55cead8773b6e94279e94a"
  },
  "kernelspec": {
   "display_name": "TADM",
   "language": "python",
   "name": "tadm"
  },
  "language_info": {
   "codemirror_mode": {
    "name": "ipython",
    "version": 3
   },
   "file_extension": ".py",
   "mimetype": "text/x-python",
   "name": "python",
   "nbconvert_exporter": "python",
   "pygments_lexer": "ipython3",
   "version": "3.8.10"
  }
 },
 "nbformat": 4,
 "nbformat_minor": 2
}
