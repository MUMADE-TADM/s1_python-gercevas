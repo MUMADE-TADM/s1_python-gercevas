{
  "nbformat": 4,
  "nbformat_minor": 0,
  "metadata": {
    "colab": {
      "provenance": [],
      "include_colab_link": true
    },
    "kernelspec": {
      "name": "python3",
      "display_name": "Python 3"
    }
  },
  "cells": [
    {
      "cell_type": "markdown",
      "metadata": {
        "id": "view-in-github",
        "colab_type": "text"
      },
      "source": [
        "<a href=\"https://colab.research.google.com/github/MUMADE-TADM/s1_python-gercevas/blob/main/TADM2022_S04_Razonamiento_Aproximado_Naive_Bayes.ipynb\" target=\"_parent\"><img src=\"https://colab.research.google.com/assets/colab-badge.svg\" alt=\"Open In Colab\"/></a>"
      ]
    },
    {
      "cell_type": "markdown",
      "metadata": {
        "id": "t1s4a8JyqcyP"
      },
      "source": [
        "Vamos a operar de diferentes maneras con los préstamos de nuestro banco, en concreto vamos a intentar crear clasificadores para que dadas unas variables nos den la probabilidad o el rating de darle un préstamo a un cliente"
      ]
    },
    {
      "cell_type": "markdown",
      "metadata": {
        "id": "vpDTzqbaiodK"
      },
      "source": [
        "## Carga de Datos"
      ]
    },
    {
      "cell_type": "code",
      "metadata": {
        "colab": {
          "base_uri": "https://localhost:8080/"
        },
        "id": "lrljckjEtOOm",
        "outputId": "d61d6feb-11cd-45c2-d54e-d172fbf3a89b"
      },
      "source": [
        "!gdown --id 1Osmr7qVN0NMuqYxvLesNn7H4nqPCVbsU"
      ],
      "execution_count": 1,
      "outputs": [
        {
          "output_type": "stream",
          "name": "stdout",
          "text": [
            "/usr/local/lib/python3.7/dist-packages/gdown/cli.py:131: FutureWarning: Option `--id` was deprecated in version 4.3.1 and will be removed in 5.0. You don't need to pass it anymore to use a file ID.\n",
            "  category=FutureWarning,\n",
            "Downloading...\n",
            "From: https://drive.google.com/uc?id=1Osmr7qVN0NMuqYxvLesNn7H4nqPCVbsU\n",
            "To: /content/data_berka.db\n",
            "100% 70.2M/70.2M [00:00<00:00, 83.3MB/s]\n"
          ]
        }
      ]
    },
    {
      "cell_type": "markdown",
      "metadata": {
        "id": "UDaOStdPirkZ"
      },
      "source": [
        "1. Cargamos la extensión sql"
      ]
    },
    {
      "cell_type": "code",
      "metadata": {
        "id": "3Zpf7lz5h7wp"
      },
      "source": [
        "%load_ext sql"
      ],
      "execution_count": 2,
      "outputs": []
    },
    {
      "cell_type": "markdown",
      "metadata": {
        "id": "zPGw5HdqiuHI"
      },
      "source": [
        "2. Nos conectamos con la base de datos"
      ]
    },
    {
      "cell_type": "code",
      "metadata": {
        "id": "ADklBjhhiPLE",
        "colab": {
          "base_uri": "https://localhost:8080/",
          "height": 37
        },
        "outputId": "8ba6b6b7-88ad-4e78-dee8-1ffebc30df60"
      },
      "source": [
        "%sql sqlite:///data_berka.db"
      ],
      "execution_count": 3,
      "outputs": [
        {
          "output_type": "execute_result",
          "data": {
            "text/plain": [
              "'Connected: @data_berka.db'"
            ],
            "application/vnd.google.colaboratory.intrinsic+json": {
              "type": "string"
            }
          },
          "metadata": {},
          "execution_count": 3
        }
      ]
    },
    {
      "cell_type": "markdown",
      "metadata": {
        "id": "oQlROt7Uidms"
      },
      "source": [
        "> Datos de préstamos ya finalizados con su estado final, incluyendo datos del distrito, etc."
      ]
    },
    {
      "cell_type": "markdown",
      "source": [
        "¿Cuántos préstamos hay por cada estado (status)?"
      ],
      "metadata": {
        "id": "iq0ZnTlWlN1s"
      }
    },
    {
      "cell_type": "code",
      "source": [
        "%%sql\n",
        "SELECT status, count(*) as total\n",
        "FROM loan\n",
        "GROUP BY status\n",
        "ORDER BY total DESC \n",
        "\n"
      ],
      "metadata": {
        "id": "75QG92jrlNcH",
        "colab": {
          "base_uri": "https://localhost:8080/",
          "height": 158
        },
        "outputId": "c5a82844-f1ab-456a-c85e-9f0b8d223fef"
      },
      "execution_count": 4,
      "outputs": [
        {
          "output_type": "stream",
          "name": "stdout",
          "text": [
            " * sqlite:///data_berka.db\n",
            "Done.\n"
          ]
        },
        {
          "output_type": "execute_result",
          "data": {
            "text/plain": [
              "[('C', 403), ('A', 203), ('D', 45), ('B', 31)]"
            ],
            "text/html": [
              "<table>\n",
              "    <thead>\n",
              "        <tr>\n",
              "            <th>status</th>\n",
              "            <th>total</th>\n",
              "        </tr>\n",
              "    </thead>\n",
              "    <tbody>\n",
              "        <tr>\n",
              "            <td>C</td>\n",
              "            <td>403</td>\n",
              "        </tr>\n",
              "        <tr>\n",
              "            <td>A</td>\n",
              "            <td>203</td>\n",
              "        </tr>\n",
              "        <tr>\n",
              "            <td>D</td>\n",
              "            <td>45</td>\n",
              "        </tr>\n",
              "        <tr>\n",
              "            <td>B</td>\n",
              "            <td>31</td>\n",
              "        </tr>\n",
              "    </tbody>\n",
              "</table>"
            ]
          },
          "metadata": {},
          "execution_count": 4
        }
      ]
    },
    {
      "cell_type": "markdown",
      "source": [
        "Vamos a empezar obteniendo los datos de los préstamos ya finalizados. Van a ser nuestros datos de entrenamiento. Por lo que seleccionaremos únicamente aquellos préstamos en status 'A' o 'B'. \n",
        "\n",
        "Con una sentencia CASE vamos a poner los prestamos finalizados bien a 1 y los que no finalizaron bien a 0. \n",
        "\n",
        "Sintaxis de uso de [INNER JOIN](https://www.sqlitetutorial.net/sqlite-inner-join/) para establecer joins entre tablas"
      ],
      "metadata": {
        "id": "roYYO_h9kH0d"
      }
    },
    {
      "cell_type": "code",
      "metadata": {
        "id": "dbTj5fJxiasa",
        "colab": {
          "base_uri": "https://localhost:8080/"
        },
        "outputId": "e20d3616-af2b-44ff-d541-36a97961c985"
      },
      "source": [
        "%%sql loans_train << SELECT substr(l.date,0,3) year, amount, duration, payments, A11, A13,\n",
        "  CASE status WHEN 'A' THEN 1\n",
        "              WHEN 'B' THEN 0\n",
        "  END label\n",
        "  FROM LOAN l, ACCOUNT a INNER JOIN DISTRICT d on a.district_id = d.A1 \n",
        "  WHERE l.account_id = a.account_id and l.status in (\"A\", \"B\")"
      ],
      "execution_count": 5,
      "outputs": [
        {
          "output_type": "stream",
          "name": "stdout",
          "text": [
            " * sqlite:///data_berka.db\n",
            "Done.\n",
            "Returning data to local variable loans_train\n"
          ]
        }
      ]
    },
    {
      "cell_type": "markdown",
      "metadata": {
        "id": "Jj_-Qp_yiyeB"
      },
      "source": [
        "3. Obtenemos el DataFrame"
      ]
    },
    {
      "cell_type": "code",
      "metadata": {
        "id": "EgN-fsjUimKL",
        "colab": {
          "base_uri": "https://localhost:8080/",
          "height": 204
        },
        "outputId": "5d7f44cb-d4ba-4f1e-f7b3-d7810f5353a3"
      },
      "source": [
        "df_train = loans_train.DataFrame()\n",
        "df_train.head()"
      ],
      "execution_count": 6,
      "outputs": [
        {
          "output_type": "execute_result",
          "data": {
            "text/plain": [
              "  year  amount  duration  payments    A11   A13  label\n",
              "0   93   96396        12      8033   9650  3.67      0\n",
              "1   93  165960        36      4610   8369  2.31      1\n",
              "2   93  127080        60      2118   8390  2.89      1\n",
              "3   93  105804        36      2939   8754  4.31      1\n",
              "4   93  274740        60      4579  12541  0.43      1"
            ],
            "text/html": [
              "\n",
              "  <div id=\"df-523d6bc5-b47e-4fda-80a6-6914264288bb\">\n",
              "    <div class=\"colab-df-container\">\n",
              "      <div>\n",
              "<style scoped>\n",
              "    .dataframe tbody tr th:only-of-type {\n",
              "        vertical-align: middle;\n",
              "    }\n",
              "\n",
              "    .dataframe tbody tr th {\n",
              "        vertical-align: top;\n",
              "    }\n",
              "\n",
              "    .dataframe thead th {\n",
              "        text-align: right;\n",
              "    }\n",
              "</style>\n",
              "<table border=\"1\" class=\"dataframe\">\n",
              "  <thead>\n",
              "    <tr style=\"text-align: right;\">\n",
              "      <th></th>\n",
              "      <th>year</th>\n",
              "      <th>amount</th>\n",
              "      <th>duration</th>\n",
              "      <th>payments</th>\n",
              "      <th>A11</th>\n",
              "      <th>A13</th>\n",
              "      <th>label</th>\n",
              "    </tr>\n",
              "  </thead>\n",
              "  <tbody>\n",
              "    <tr>\n",
              "      <th>0</th>\n",
              "      <td>93</td>\n",
              "      <td>96396</td>\n",
              "      <td>12</td>\n",
              "      <td>8033</td>\n",
              "      <td>9650</td>\n",
              "      <td>3.67</td>\n",
              "      <td>0</td>\n",
              "    </tr>\n",
              "    <tr>\n",
              "      <th>1</th>\n",
              "      <td>93</td>\n",
              "      <td>165960</td>\n",
              "      <td>36</td>\n",
              "      <td>4610</td>\n",
              "      <td>8369</td>\n",
              "      <td>2.31</td>\n",
              "      <td>1</td>\n",
              "    </tr>\n",
              "    <tr>\n",
              "      <th>2</th>\n",
              "      <td>93</td>\n",
              "      <td>127080</td>\n",
              "      <td>60</td>\n",
              "      <td>2118</td>\n",
              "      <td>8390</td>\n",
              "      <td>2.89</td>\n",
              "      <td>1</td>\n",
              "    </tr>\n",
              "    <tr>\n",
              "      <th>3</th>\n",
              "      <td>93</td>\n",
              "      <td>105804</td>\n",
              "      <td>36</td>\n",
              "      <td>2939</td>\n",
              "      <td>8754</td>\n",
              "      <td>4.31</td>\n",
              "      <td>1</td>\n",
              "    </tr>\n",
              "    <tr>\n",
              "      <th>4</th>\n",
              "      <td>93</td>\n",
              "      <td>274740</td>\n",
              "      <td>60</td>\n",
              "      <td>4579</td>\n",
              "      <td>12541</td>\n",
              "      <td>0.43</td>\n",
              "      <td>1</td>\n",
              "    </tr>\n",
              "  </tbody>\n",
              "</table>\n",
              "</div>\n",
              "      <button class=\"colab-df-convert\" onclick=\"convertToInteractive('df-523d6bc5-b47e-4fda-80a6-6914264288bb')\"\n",
              "              title=\"Convert this dataframe to an interactive table.\"\n",
              "              style=\"display:none;\">\n",
              "        \n",
              "  <svg xmlns=\"http://www.w3.org/2000/svg\" height=\"24px\"viewBox=\"0 0 24 24\"\n",
              "       width=\"24px\">\n",
              "    <path d=\"M0 0h24v24H0V0z\" fill=\"none\"/>\n",
              "    <path d=\"M18.56 5.44l.94 2.06.94-2.06 2.06-.94-2.06-.94-.94-2.06-.94 2.06-2.06.94zm-11 1L8.5 8.5l.94-2.06 2.06-.94-2.06-.94L8.5 2.5l-.94 2.06-2.06.94zm10 10l.94 2.06.94-2.06 2.06-.94-2.06-.94-.94-2.06-.94 2.06-2.06.94z\"/><path d=\"M17.41 7.96l-1.37-1.37c-.4-.4-.92-.59-1.43-.59-.52 0-1.04.2-1.43.59L10.3 9.45l-7.72 7.72c-.78.78-.78 2.05 0 2.83L4 21.41c.39.39.9.59 1.41.59.51 0 1.02-.2 1.41-.59l7.78-7.78 2.81-2.81c.8-.78.8-2.07 0-2.86zM5.41 20L4 18.59l7.72-7.72 1.47 1.35L5.41 20z\"/>\n",
              "  </svg>\n",
              "      </button>\n",
              "      \n",
              "  <style>\n",
              "    .colab-df-container {\n",
              "      display:flex;\n",
              "      flex-wrap:wrap;\n",
              "      gap: 12px;\n",
              "    }\n",
              "\n",
              "    .colab-df-convert {\n",
              "      background-color: #E8F0FE;\n",
              "      border: none;\n",
              "      border-radius: 50%;\n",
              "      cursor: pointer;\n",
              "      display: none;\n",
              "      fill: #1967D2;\n",
              "      height: 32px;\n",
              "      padding: 0 0 0 0;\n",
              "      width: 32px;\n",
              "    }\n",
              "\n",
              "    .colab-df-convert:hover {\n",
              "      background-color: #E2EBFA;\n",
              "      box-shadow: 0px 1px 2px rgba(60, 64, 67, 0.3), 0px 1px 3px 1px rgba(60, 64, 67, 0.15);\n",
              "      fill: #174EA6;\n",
              "    }\n",
              "\n",
              "    [theme=dark] .colab-df-convert {\n",
              "      background-color: #3B4455;\n",
              "      fill: #D2E3FC;\n",
              "    }\n",
              "\n",
              "    [theme=dark] .colab-df-convert:hover {\n",
              "      background-color: #434B5C;\n",
              "      box-shadow: 0px 1px 3px 1px rgba(0, 0, 0, 0.15);\n",
              "      filter: drop-shadow(0px 1px 2px rgba(0, 0, 0, 0.3));\n",
              "      fill: #FFFFFF;\n",
              "    }\n",
              "  </style>\n",
              "\n",
              "      <script>\n",
              "        const buttonEl =\n",
              "          document.querySelector('#df-523d6bc5-b47e-4fda-80a6-6914264288bb button.colab-df-convert');\n",
              "        buttonEl.style.display =\n",
              "          google.colab.kernel.accessAllowed ? 'block' : 'none';\n",
              "\n",
              "        async function convertToInteractive(key) {\n",
              "          const element = document.querySelector('#df-523d6bc5-b47e-4fda-80a6-6914264288bb');\n",
              "          const dataTable =\n",
              "            await google.colab.kernel.invokeFunction('convertToInteractive',\n",
              "                                                     [key], {});\n",
              "          if (!dataTable) return;\n",
              "\n",
              "          const docLinkHtml = 'Like what you see? Visit the ' +\n",
              "            '<a target=\"_blank\" href=https://colab.research.google.com/notebooks/data_table.ipynb>data table notebook</a>'\n",
              "            + ' to learn more about interactive tables.';\n",
              "          element.innerHTML = '';\n",
              "          dataTable['output_type'] = 'display_data';\n",
              "          await google.colab.output.renderOutput(dataTable, element);\n",
              "          const docLink = document.createElement('div');\n",
              "          docLink.innerHTML = docLinkHtml;\n",
              "          element.appendChild(docLink);\n",
              "        }\n",
              "      </script>\n",
              "    </div>\n",
              "  </div>\n",
              "  "
            ]
          },
          "metadata": {},
          "execution_count": 6
        }
      ]
    },
    {
      "cell_type": "code",
      "source": [
        "df_train.shape"
      ],
      "metadata": {
        "colab": {
          "base_uri": "https://localhost:8080/"
        },
        "id": "75rgtscNqQ3T",
        "outputId": "1ec51efb-3a3c-42fe-b5e2-864a9869bf7e"
      },
      "execution_count": 7,
      "outputs": [
        {
          "output_type": "execute_result",
          "data": {
            "text/plain": [
              "(234, 7)"
            ]
          },
          "metadata": {},
          "execution_count": 7
        }
      ]
    },
    {
      "cell_type": "markdown",
      "source": [
        "Para la parte de *test* lo que vamos a extraer de la Base de Datos son los préstamos que están en ejecución (`status in (\"C\", \"D\")`) con los mismos campos que en la consulta anterior."
      ],
      "metadata": {
        "id": "jhv5wpixG5bL"
      }
    },
    {
      "cell_type": "code",
      "source": [
        "%%sql loans_test << SELECT substr(l.date,0,3) year, amount, duration, payments, A11, A13,\n",
        "  CASE status WHEN 'C' THEN 1\n",
        "              WHEN 'D' THEN 0\n",
        "  END label\n",
        "  FROM LOAN l, ACCOUNT a INNER JOIN DISTRICT d on a.district_id = d.A1 \n",
        "  WHERE l.account_id = a.account_id and l.status in (\"C\", \"D\")"
      ],
      "metadata": {
        "colab": {
          "base_uri": "https://localhost:8080/"
        },
        "id": "i65WhpR4k9fk",
        "outputId": "bbe37329-22c2-4ebf-f9e2-3bdefe70bd4d"
      },
      "execution_count": 8,
      "outputs": [
        {
          "output_type": "stream",
          "name": "stdout",
          "text": [
            " * sqlite:///data_berka.db\n",
            "Done.\n",
            "Returning data to local variable loans_test\n"
          ]
        }
      ]
    },
    {
      "cell_type": "markdown",
      "source": [
        "**Ejercicio**: Añadir la edad del cliente propietario de la cuenta del prestamo y algún campo de datos demográficos adicionales\n"
      ],
      "metadata": {
        "id": "Deb5y3tKDbse"
      }
    },
    {
      "cell_type": "code",
      "source": [
        "%%sql \n",
        "SELECT substr(l.date,0,3) year, 99-substr(c.birth_number,0,3) age, amount, duration, payments, A11, A13, \n",
        "CASE status WHEN 'A' THEN 1 \n",
        "            WHEN 'B' THEN 0\n",
        "END label\n",
        "FROM LOAN l, ACCOUNT a, DISTRICT d, CLIENT c, DISPOSITION disp\n",
        "WHERE l.account_id = a.account_id\n",
        "AND a.account_id = disp.account_id\n",
        "AND disp.client_id = c.client_id\n",
        "AND c.district_id = d.a1\n",
        "AND l.status in (\"A\", \"B\")\n",
        "LIMIT 15"
      ],
      "metadata": {
        "colab": {
          "base_uri": "https://localhost:8080/",
          "height": 389
        },
        "id": "AX7bAN9aDdyf",
        "outputId": "d113d68c-3117-4a42-ea2c-1d774e4d2207"
      },
      "execution_count": 10,
      "outputs": [
        {
          "output_type": "stream",
          "name": "stdout",
          "text": [
            " * sqlite:///data_berka.db\n",
            "Done.\n"
          ]
        },
        {
          "output_type": "execute_result",
          "data": {
            "text/plain": [
              "[('94', 54, 80952, 24, 3373, 12541, 0.43, 1),\n",
              " ('94', 59, 80952, 24, 3373, 12541, 0.43, 1),\n",
              " ('96', 60, 30276, 12, 2523, 9104, 2.07, 0),\n",
              " ('97', 37, 30276, 12, 2523, 9893, 4.72, 1),\n",
              " ('96', 55, 165960, 24, 6915, 8427, 1.54, 1),\n",
              " ('97', 57, 102876, 12, 8573, 10673, 5.44, 1),\n",
              " ('97', 63, 102876, 12, 8573, 10673, 5.44, 1),\n",
              " ('96', 54, 88440, 12, 7370, 9317, 7.07, 1),\n",
              " ('96', 61, 88440, 12, 7370, 9317, 7.07, 1),\n",
              " ('94', 60, 104808, 12, 8734, 8512, 4.12, 1),\n",
              " ('94', 54, 104808, 12, 8734, 8512, 4.12, 1),\n",
              " ('97', 32, 27456, 12, 2288, 8678, 5.57, 1),\n",
              " ('94', 59, 123696, 48, 2577, 8772, 4.98, 1),\n",
              " ('95', 52, 187224, 24, 7801, 12541, 0.43, 0),\n",
              " ('96', 57, 91152, 24, 3798, 9272, 3.22, 1)]"
            ],
            "text/html": [
              "<table>\n",
              "    <thead>\n",
              "        <tr>\n",
              "            <th>year</th>\n",
              "            <th>age</th>\n",
              "            <th>amount</th>\n",
              "            <th>duration</th>\n",
              "            <th>payments</th>\n",
              "            <th>A11</th>\n",
              "            <th>A13</th>\n",
              "            <th>label</th>\n",
              "        </tr>\n",
              "    </thead>\n",
              "    <tbody>\n",
              "        <tr>\n",
              "            <td>94</td>\n",
              "            <td>54</td>\n",
              "            <td>80952</td>\n",
              "            <td>24</td>\n",
              "            <td>3373</td>\n",
              "            <td>12541</td>\n",
              "            <td>0.43</td>\n",
              "            <td>1</td>\n",
              "        </tr>\n",
              "        <tr>\n",
              "            <td>94</td>\n",
              "            <td>59</td>\n",
              "            <td>80952</td>\n",
              "            <td>24</td>\n",
              "            <td>3373</td>\n",
              "            <td>12541</td>\n",
              "            <td>0.43</td>\n",
              "            <td>1</td>\n",
              "        </tr>\n",
              "        <tr>\n",
              "            <td>96</td>\n",
              "            <td>60</td>\n",
              "            <td>30276</td>\n",
              "            <td>12</td>\n",
              "            <td>2523</td>\n",
              "            <td>9104</td>\n",
              "            <td>2.07</td>\n",
              "            <td>0</td>\n",
              "        </tr>\n",
              "        <tr>\n",
              "            <td>97</td>\n",
              "            <td>37</td>\n",
              "            <td>30276</td>\n",
              "            <td>12</td>\n",
              "            <td>2523</td>\n",
              "            <td>9893</td>\n",
              "            <td>4.72</td>\n",
              "            <td>1</td>\n",
              "        </tr>\n",
              "        <tr>\n",
              "            <td>96</td>\n",
              "            <td>55</td>\n",
              "            <td>165960</td>\n",
              "            <td>24</td>\n",
              "            <td>6915</td>\n",
              "            <td>8427</td>\n",
              "            <td>1.54</td>\n",
              "            <td>1</td>\n",
              "        </tr>\n",
              "        <tr>\n",
              "            <td>97</td>\n",
              "            <td>57</td>\n",
              "            <td>102876</td>\n",
              "            <td>12</td>\n",
              "            <td>8573</td>\n",
              "            <td>10673</td>\n",
              "            <td>5.44</td>\n",
              "            <td>1</td>\n",
              "        </tr>\n",
              "        <tr>\n",
              "            <td>97</td>\n",
              "            <td>63</td>\n",
              "            <td>102876</td>\n",
              "            <td>12</td>\n",
              "            <td>8573</td>\n",
              "            <td>10673</td>\n",
              "            <td>5.44</td>\n",
              "            <td>1</td>\n",
              "        </tr>\n",
              "        <tr>\n",
              "            <td>96</td>\n",
              "            <td>54</td>\n",
              "            <td>88440</td>\n",
              "            <td>12</td>\n",
              "            <td>7370</td>\n",
              "            <td>9317</td>\n",
              "            <td>7.07</td>\n",
              "            <td>1</td>\n",
              "        </tr>\n",
              "        <tr>\n",
              "            <td>96</td>\n",
              "            <td>61</td>\n",
              "            <td>88440</td>\n",
              "            <td>12</td>\n",
              "            <td>7370</td>\n",
              "            <td>9317</td>\n",
              "            <td>7.07</td>\n",
              "            <td>1</td>\n",
              "        </tr>\n",
              "        <tr>\n",
              "            <td>94</td>\n",
              "            <td>60</td>\n",
              "            <td>104808</td>\n",
              "            <td>12</td>\n",
              "            <td>8734</td>\n",
              "            <td>8512</td>\n",
              "            <td>4.12</td>\n",
              "            <td>1</td>\n",
              "        </tr>\n",
              "        <tr>\n",
              "            <td>94</td>\n",
              "            <td>54</td>\n",
              "            <td>104808</td>\n",
              "            <td>12</td>\n",
              "            <td>8734</td>\n",
              "            <td>8512</td>\n",
              "            <td>4.12</td>\n",
              "            <td>1</td>\n",
              "        </tr>\n",
              "        <tr>\n",
              "            <td>97</td>\n",
              "            <td>32</td>\n",
              "            <td>27456</td>\n",
              "            <td>12</td>\n",
              "            <td>2288</td>\n",
              "            <td>8678</td>\n",
              "            <td>5.57</td>\n",
              "            <td>1</td>\n",
              "        </tr>\n",
              "        <tr>\n",
              "            <td>94</td>\n",
              "            <td>59</td>\n",
              "            <td>123696</td>\n",
              "            <td>48</td>\n",
              "            <td>2577</td>\n",
              "            <td>8772</td>\n",
              "            <td>4.98</td>\n",
              "            <td>1</td>\n",
              "        </tr>\n",
              "        <tr>\n",
              "            <td>95</td>\n",
              "            <td>52</td>\n",
              "            <td>187224</td>\n",
              "            <td>24</td>\n",
              "            <td>7801</td>\n",
              "            <td>12541</td>\n",
              "            <td>0.43</td>\n",
              "            <td>0</td>\n",
              "        </tr>\n",
              "        <tr>\n",
              "            <td>96</td>\n",
              "            <td>57</td>\n",
              "            <td>91152</td>\n",
              "            <td>24</td>\n",
              "            <td>3798</td>\n",
              "            <td>9272</td>\n",
              "            <td>3.22</td>\n",
              "            <td>1</td>\n",
              "        </tr>\n",
              "    </tbody>\n",
              "</table>"
            ]
          },
          "metadata": {},
          "execution_count": 10
        }
      ]
    },
    {
      "cell_type": "code",
      "source": [
        "df_test = loans_test.DataFrame()\n",
        "df_test.head()"
      ],
      "metadata": {
        "colab": {
          "base_uri": "https://localhost:8080/",
          "height": 204
        },
        "id": "dpwgRcLZlJvp",
        "outputId": "98d1e989-167e-4cc8-b912-c4f250402065"
      },
      "execution_count": 11,
      "outputs": [
        {
          "output_type": "execute_result",
          "data": {
            "text/plain": [
              "  year  amount  duration  payments   A11   A13  label\n",
              "0   94  253200        60      4220  9893  4.72      1\n",
              "1   94  300660        60      5011  9317  7.07      1\n",
              "2   94  167100        60      2785  8544  1.86      1\n",
              "3   94  149340        60      2489  8254  3.76      1\n",
              "4   94   89040        60      1484  8909  5.56      1"
            ],
            "text/html": [
              "\n",
              "  <div id=\"df-1d5bb80b-3d28-4967-8a39-bce80282a02a\">\n",
              "    <div class=\"colab-df-container\">\n",
              "      <div>\n",
              "<style scoped>\n",
              "    .dataframe tbody tr th:only-of-type {\n",
              "        vertical-align: middle;\n",
              "    }\n",
              "\n",
              "    .dataframe tbody tr th {\n",
              "        vertical-align: top;\n",
              "    }\n",
              "\n",
              "    .dataframe thead th {\n",
              "        text-align: right;\n",
              "    }\n",
              "</style>\n",
              "<table border=\"1\" class=\"dataframe\">\n",
              "  <thead>\n",
              "    <tr style=\"text-align: right;\">\n",
              "      <th></th>\n",
              "      <th>year</th>\n",
              "      <th>amount</th>\n",
              "      <th>duration</th>\n",
              "      <th>payments</th>\n",
              "      <th>A11</th>\n",
              "      <th>A13</th>\n",
              "      <th>label</th>\n",
              "    </tr>\n",
              "  </thead>\n",
              "  <tbody>\n",
              "    <tr>\n",
              "      <th>0</th>\n",
              "      <td>94</td>\n",
              "      <td>253200</td>\n",
              "      <td>60</td>\n",
              "      <td>4220</td>\n",
              "      <td>9893</td>\n",
              "      <td>4.72</td>\n",
              "      <td>1</td>\n",
              "    </tr>\n",
              "    <tr>\n",
              "      <th>1</th>\n",
              "      <td>94</td>\n",
              "      <td>300660</td>\n",
              "      <td>60</td>\n",
              "      <td>5011</td>\n",
              "      <td>9317</td>\n",
              "      <td>7.07</td>\n",
              "      <td>1</td>\n",
              "    </tr>\n",
              "    <tr>\n",
              "      <th>2</th>\n",
              "      <td>94</td>\n",
              "      <td>167100</td>\n",
              "      <td>60</td>\n",
              "      <td>2785</td>\n",
              "      <td>8544</td>\n",
              "      <td>1.86</td>\n",
              "      <td>1</td>\n",
              "    </tr>\n",
              "    <tr>\n",
              "      <th>3</th>\n",
              "      <td>94</td>\n",
              "      <td>149340</td>\n",
              "      <td>60</td>\n",
              "      <td>2489</td>\n",
              "      <td>8254</td>\n",
              "      <td>3.76</td>\n",
              "      <td>1</td>\n",
              "    </tr>\n",
              "    <tr>\n",
              "      <th>4</th>\n",
              "      <td>94</td>\n",
              "      <td>89040</td>\n",
              "      <td>60</td>\n",
              "      <td>1484</td>\n",
              "      <td>8909</td>\n",
              "      <td>5.56</td>\n",
              "      <td>1</td>\n",
              "    </tr>\n",
              "  </tbody>\n",
              "</table>\n",
              "</div>\n",
              "      <button class=\"colab-df-convert\" onclick=\"convertToInteractive('df-1d5bb80b-3d28-4967-8a39-bce80282a02a')\"\n",
              "              title=\"Convert this dataframe to an interactive table.\"\n",
              "              style=\"display:none;\">\n",
              "        \n",
              "  <svg xmlns=\"http://www.w3.org/2000/svg\" height=\"24px\"viewBox=\"0 0 24 24\"\n",
              "       width=\"24px\">\n",
              "    <path d=\"M0 0h24v24H0V0z\" fill=\"none\"/>\n",
              "    <path d=\"M18.56 5.44l.94 2.06.94-2.06 2.06-.94-2.06-.94-.94-2.06-.94 2.06-2.06.94zm-11 1L8.5 8.5l.94-2.06 2.06-.94-2.06-.94L8.5 2.5l-.94 2.06-2.06.94zm10 10l.94 2.06.94-2.06 2.06-.94-2.06-.94-.94-2.06-.94 2.06-2.06.94z\"/><path d=\"M17.41 7.96l-1.37-1.37c-.4-.4-.92-.59-1.43-.59-.52 0-1.04.2-1.43.59L10.3 9.45l-7.72 7.72c-.78.78-.78 2.05 0 2.83L4 21.41c.39.39.9.59 1.41.59.51 0 1.02-.2 1.41-.59l7.78-7.78 2.81-2.81c.8-.78.8-2.07 0-2.86zM5.41 20L4 18.59l7.72-7.72 1.47 1.35L5.41 20z\"/>\n",
              "  </svg>\n",
              "      </button>\n",
              "      \n",
              "  <style>\n",
              "    .colab-df-container {\n",
              "      display:flex;\n",
              "      flex-wrap:wrap;\n",
              "      gap: 12px;\n",
              "    }\n",
              "\n",
              "    .colab-df-convert {\n",
              "      background-color: #E8F0FE;\n",
              "      border: none;\n",
              "      border-radius: 50%;\n",
              "      cursor: pointer;\n",
              "      display: none;\n",
              "      fill: #1967D2;\n",
              "      height: 32px;\n",
              "      padding: 0 0 0 0;\n",
              "      width: 32px;\n",
              "    }\n",
              "\n",
              "    .colab-df-convert:hover {\n",
              "      background-color: #E2EBFA;\n",
              "      box-shadow: 0px 1px 2px rgba(60, 64, 67, 0.3), 0px 1px 3px 1px rgba(60, 64, 67, 0.15);\n",
              "      fill: #174EA6;\n",
              "    }\n",
              "\n",
              "    [theme=dark] .colab-df-convert {\n",
              "      background-color: #3B4455;\n",
              "      fill: #D2E3FC;\n",
              "    }\n",
              "\n",
              "    [theme=dark] .colab-df-convert:hover {\n",
              "      background-color: #434B5C;\n",
              "      box-shadow: 0px 1px 3px 1px rgba(0, 0, 0, 0.15);\n",
              "      filter: drop-shadow(0px 1px 2px rgba(0, 0, 0, 0.3));\n",
              "      fill: #FFFFFF;\n",
              "    }\n",
              "  </style>\n",
              "\n",
              "      <script>\n",
              "        const buttonEl =\n",
              "          document.querySelector('#df-1d5bb80b-3d28-4967-8a39-bce80282a02a button.colab-df-convert');\n",
              "        buttonEl.style.display =\n",
              "          google.colab.kernel.accessAllowed ? 'block' : 'none';\n",
              "\n",
              "        async function convertToInteractive(key) {\n",
              "          const element = document.querySelector('#df-1d5bb80b-3d28-4967-8a39-bce80282a02a');\n",
              "          const dataTable =\n",
              "            await google.colab.kernel.invokeFunction('convertToInteractive',\n",
              "                                                     [key], {});\n",
              "          if (!dataTable) return;\n",
              "\n",
              "          const docLinkHtml = 'Like what you see? Visit the ' +\n",
              "            '<a target=\"_blank\" href=https://colab.research.google.com/notebooks/data_table.ipynb>data table notebook</a>'\n",
              "            + ' to learn more about interactive tables.';\n",
              "          element.innerHTML = '';\n",
              "          dataTable['output_type'] = 'display_data';\n",
              "          await google.colab.output.renderOutput(dataTable, element);\n",
              "          const docLink = document.createElement('div');\n",
              "          docLink.innerHTML = docLinkHtml;\n",
              "          element.appendChild(docLink);\n",
              "        }\n",
              "      </script>\n",
              "    </div>\n",
              "  </div>\n",
              "  "
            ]
          },
          "metadata": {},
          "execution_count": 11
        }
      ]
    },
    {
      "cell_type": "markdown",
      "metadata": {
        "id": "AcgHrYibsQn3"
      },
      "source": [
        "4. División de los datos en entrenamiento y test"
      ]
    },
    {
      "cell_type": "markdown",
      "source": [
        "`features` es una variable de tipo lista que me almacena los nombres de las características que me sirven como **entrada**"
      ],
      "metadata": {
        "id": "8WpAeR8WIUm1"
      }
    },
    {
      "cell_type": "code",
      "source": [
        "features = [\"year\", \"amount\", \"duration\", \"payments\",\"A11\", \"A13\"]"
      ],
      "metadata": {
        "id": "mH1b4h27kA85"
      },
      "execution_count": 12,
      "outputs": []
    },
    {
      "cell_type": "markdown",
      "source": [
        "* train (creación del modelo) : datos de préstamos ya finalizados\n",
        "* test (evaluación del modelo): datos de préstamos en ejecución"
      ],
      "metadata": {
        "id": "Gyt-TgZ3IXEi"
      }
    },
    {
      "cell_type": "code",
      "metadata": {
        "id": "iRV2W22-sTKg"
      },
      "source": [
        "X_train = df_train[features]\n",
        "y_train = df_train[\"label\"]\n",
        "\n",
        "X_test = df_test[features]\n",
        "y_test = df_test[\"label\"]\n"
      ],
      "execution_count": 13,
      "outputs": []
    },
    {
      "cell_type": "markdown",
      "source": [
        "5. Normalizarlos puede ser una buena medida para obtener mejores resultados.\n",
        "Para ello vamos a utilizar el [StandardScaler](https://scikit-learn.org/stable/modules/generated/sklearn.preprocessing.StandardScaler.html)\n",
        "\n",
        "El centrado y el escalado se realizan de forma independiente en cada característica, calculando las estadísticas pertinentes en las muestras del **conjunto de entrenamiento**. La media y la desviación estándar se almacenan para utilizarlas en datos posteriores mediante una **transformación**.\n",
        "\n",
        "Mas información sobre normalización en el siguiente [enlace](https://scikit-learn.org/stable/modules/preprocessing.html#preprocessing-scaler)\n"
      ],
      "metadata": {
        "id": "TWn1Xr-Cqas7"
      }
    },
    {
      "cell_type": "code",
      "source": [
        "from sklearn.preprocessing import StandardScaler\n",
        "scaler = StandardScaler()\n",
        "# calculo de los factores de centrado y escalado\n",
        "scaler.fit(X_train) \n",
        "# transformación\n",
        "X_train = scaler.transform(X_train)\n",
        "X_test = scaler.transform(X_test)"
      ],
      "metadata": {
        "id": "BaaMrekmpKH3"
      },
      "execution_count": 14,
      "outputs": []
    },
    {
      "cell_type": "markdown",
      "source": [
        "Aplicamos un modelo [NaiveBayes](https://scikit-learn.org/stable/modules/naive_bayes.html?highlight=naive+bayes) para construir un clasificador de préstamos"
      ],
      "metadata": {
        "id": "Uf-IVArsl8qM"
      }
    },
    {
      "cell_type": "code",
      "source": [
        "from sklearn.naive_bayes import GaussianNB #, MultinomialNB, BernoulliNB, ComplementNB\n",
        "\n",
        "gnb = GaussianNB()\n",
        "clf = gnb.fit(X_train, y_train)\n",
        "y_pred = clf.predict(X_test)\n",
        "print(\"Número de préstamos clasificados erroneamente %d de un total de  %d\"  % (X_test.shape[0], (y_test != y_pred).sum()))\n"
      ],
      "metadata": {
        "colab": {
          "base_uri": "https://localhost:8080/"
        },
        "id": "MZHrLj9inBOv",
        "outputId": "4c40113c-a6bd-4768-8370-4adb7b0afe00"
      },
      "execution_count": 15,
      "outputs": [
        {
          "output_type": "stream",
          "name": "stdout",
          "text": [
            "Número de préstamos clasificados erroneamente 448 de un total de  123\n"
          ]
        }
      ]
    },
    {
      "cell_type": "markdown",
      "source": [
        "Para ver que resultados tenemos sobre la colección de `test` utilizamos en primer lugar el informe de los resultados [`classification report`](https://scikit-learn.org/stable/modules/model_evaluation.html#classification-report)"
      ],
      "metadata": {
        "id": "sSXcCuddmOFV"
      }
    },
    {
      "cell_type": "code",
      "source": [
        "from sklearn.metrics import classification_report\n",
        "print(classification_report(y_test, y_pred, labels=clf.classes_))"
      ],
      "metadata": {
        "colab": {
          "base_uri": "https://localhost:8080/"
        },
        "id": "f9BITuBznBAC",
        "outputId": "77793665-11f6-4d88-dc30-1a66eb45d6ba"
      },
      "execution_count": 16,
      "outputs": [
        {
          "output_type": "stream",
          "name": "stdout",
          "text": [
            "              precision    recall  f1-score   support\n",
            "\n",
            "           0       0.20      0.60      0.31        45\n",
            "           1       0.94      0.74      0.83       403\n",
            "\n",
            "    accuracy                           0.73       448\n",
            "   macro avg       0.57      0.67      0.57       448\n",
            "weighted avg       0.87      0.73      0.78       448\n",
            "\n"
          ]
        }
      ]
    },
    {
      "cell_type": "markdown",
      "source": [
        "Y la [matriz de confusión](https://scikit-learn.org/stable/modules/generated/sklearn.metrics.ConfusionMatrixDisplay.html)"
      ],
      "metadata": {
        "id": "rosWtD4MnPAw"
      }
    },
    {
      "cell_type": "code",
      "source": [
        "import matplotlib.pyplot as plt\n",
        "from sklearn.metrics import confusion_matrix, ConfusionMatrixDisplay\n",
        "cm = confusion_matrix(y_test, y_pred, labels= clf.classes_)\n",
        "disp = ConfusionMatrixDisplay(confusion_matrix=cm, display_labels=clf.classes_)\n",
        "disp.plot()"
      ],
      "metadata": {
        "colab": {
          "base_uri": "https://localhost:8080/",
          "height": 296
        },
        "id": "qSZzOldtoOku",
        "outputId": "0745daf7-cb3f-41ca-881d-5706d16cdda0"
      },
      "execution_count": 17,
      "outputs": [
        {
          "output_type": "execute_result",
          "data": {
            "text/plain": [
              "<sklearn.metrics._plot.confusion_matrix.ConfusionMatrixDisplay at 0x7f5bbf89f610>"
            ]
          },
          "metadata": {},
          "execution_count": 17
        },
        {
          "output_type": "display_data",
          "data": {
            "text/plain": [
              "<Figure size 432x288 with 2 Axes>"
            ],
            "image/png": "[encoded data removed]"
          },
          "metadata": {
            "needs_background": "light"
          }
        }
      ]
    },
    {
      "cell_type": "markdown",
      "source": [
        "**Ejercicios**\n",
        "\n",
        "Plantear el clasificador de préstamos añadiendo datos de otras tablas de la base de datos, u otros campos de las mismas tablas (edad del cliente, etc).\n",
        "\n",
        "Otras transformaciones: [Discretización](https://scikit-learn.org/stable/modules/preprocessing.html#preprocessing-discretization) y utilización de otros clasificadores NB"
      ],
      "metadata": {
        "id": "rPkodIffcBxb"
      }
    },
    {
      "cell_type": "markdown",
      "source": [
        "Se añaden las variables age, criminality range para los prestamos de status A y B, año del préstamo obtenido"
      ],
      "metadata": {
        "id": "gOigsLekbm0M"
      }
    },
    {
      "cell_type": "code",
      "source": [
        "%%sql \n",
        "select substr(lo.date,0,3) year_concesion,amount, duration, payments, A11, A13, 99-substr(cl.birth_number,0,3) year , a16 criminality,\n",
        "CASE status WHEN 'A' THEN 1 \n",
        "              WHEN 'B' THEN 0\n",
        "END label\n",
        "from LOAN lo, ACCOUNT ac, DISTRICT dist, CLIENT cl, DISPOSITION disp\n",
        "where lo.account_id = ac.account_id\n",
        "and ac.account_id = disp.account_id\n",
        "and disp.client_id = cl.client_id\n",
        "and cl.district_id = dist.a1\n",
        "and lo.status in (\"A\", \"B\")\n",
        "limit 5"
      ],
      "metadata": {
        "colab": {
          "base_uri": "https://localhost:8080/",
          "height": 179
        },
        "id": "8HnhFDX2jJlR",
        "outputId": "03850d22-be54-40c3-d563-6c7bee69ae4f"
      },
      "execution_count": 22,
      "outputs": [
        {
          "output_type": "stream",
          "name": "stdout",
          "text": [
            " * sqlite:///data_berka.db\n",
            "Done.\n"
          ]
        },
        {
          "output_type": "execute_result",
          "data": {
            "text/plain": [
              "[('94', 80952, 24, 3373, 12541, 0.43, 54, 99107, 1),\n",
              " ('94', 80952, 24, 3373, 12541, 0.43, 59, 99107, 1),\n",
              " ('96', 30276, 12, 2523, 9104, 2.07, 60, 2354, 0),\n",
              " ('97', 30276, 12, 2523, 9893, 4.72, 37, 5887, 1),\n",
              " ('96', 165960, 24, 6915, 8427, 1.54, 55, 1913, 1)]"
            ],
            "text/html": [
              "<table>\n",
              "    <thead>\n",
              "        <tr>\n",
              "            <th>year_concesion</th>\n",
              "            <th>amount</th>\n",
              "            <th>duration</th>\n",
              "            <th>payments</th>\n",
              "            <th>A11</th>\n",
              "            <th>A13</th>\n",
              "            <th>year</th>\n",
              "            <th>criminality</th>\n",
              "            <th>label</th>\n",
              "        </tr>\n",
              "    </thead>\n",
              "    <tbody>\n",
              "        <tr>\n",
              "            <td>94</td>\n",
              "            <td>80952</td>\n",
              "            <td>24</td>\n",
              "            <td>3373</td>\n",
              "            <td>12541</td>\n",
              "            <td>0.43</td>\n",
              "            <td>54</td>\n",
              "            <td>99107</td>\n",
              "            <td>1</td>\n",
              "        </tr>\n",
              "        <tr>\n",
              "            <td>94</td>\n",
              "            <td>80952</td>\n",
              "            <td>24</td>\n",
              "            <td>3373</td>\n",
              "            <td>12541</td>\n",
              "            <td>0.43</td>\n",
              "            <td>59</td>\n",
              "            <td>99107</td>\n",
              "            <td>1</td>\n",
              "        </tr>\n",
              "        <tr>\n",
              "            <td>96</td>\n",
              "            <td>30276</td>\n",
              "            <td>12</td>\n",
              "            <td>2523</td>\n",
              "            <td>9104</td>\n",
              "            <td>2.07</td>\n",
              "            <td>60</td>\n",
              "            <td>2354</td>\n",
              "            <td>0</td>\n",
              "        </tr>\n",
              "        <tr>\n",
              "            <td>97</td>\n",
              "            <td>30276</td>\n",
              "            <td>12</td>\n",
              "            <td>2523</td>\n",
              "            <td>9893</td>\n",
              "            <td>4.72</td>\n",
              "            <td>37</td>\n",
              "            <td>5887</td>\n",
              "            <td>1</td>\n",
              "        </tr>\n",
              "        <tr>\n",
              "            <td>96</td>\n",
              "            <td>165960</td>\n",
              "            <td>24</td>\n",
              "            <td>6915</td>\n",
              "            <td>8427</td>\n",
              "            <td>1.54</td>\n",
              "            <td>55</td>\n",
              "            <td>1913</td>\n",
              "            <td>1</td>\n",
              "        </tr>\n",
              "    </tbody>\n",
              "</table>"
            ]
          },
          "metadata": {},
          "execution_count": 22
        }
      ]
    },
    {
      "cell_type": "code",
      "source": [
        "%%sql loans_train_2 << select substr(lo.date,0,3) year_concesion, amount, duration, payments, A11, A13, 99-substr(cl.birth_number,0,3) year ,lo.date, a16 criminality,\n",
        "  CASE status WHEN 'A' THEN 1 \n",
        "              WHEN 'B' THEN 0\n",
        "  END label\n",
        "\n",
        "  FROM LOAN lo inner join ACCOUNT ac on lo.account_id = ac.account_id\n",
        "             inner join DISPOSITION disp on ac.account_id = disp.account_id\n",
        "             inner join CLIENT cl on disp.client_id = cl.client_id\n",
        "             inner join DISTRICT dist on cl.district_id = dist.a1\n",
        "  Where lo.status in (\"A\", \"B\")"
      ],
      "metadata": {
        "colab": {
          "base_uri": "https://localhost:8080/"
        },
        "id": "cCpxlOiRHAL3",
        "outputId": "49bc2295-be02-42c1-88da-0d1d686b1007"
      },
      "execution_count": 20,
      "outputs": [
        {
          "output_type": "stream",
          "name": "stdout",
          "text": [
            " * sqlite:///data_berka.db\n",
            "Done.\n",
            "Returning data to local variable loans_train_2\n"
          ]
        }
      ]
    },
    {
      "cell_type": "code",
      "source": [
        "df_train_2 = loans_train_2.DataFrame()\n",
        "df_train_2.head()"
      ],
      "metadata": {
        "colab": {
          "base_uri": "https://localhost:8080/",
          "height": 204
        },
        "id": "oW81h4sBjRP2",
        "outputId": "707e80c3-80f8-48de-9f92-eab09f419a01"
      },
      "execution_count": 21,
      "outputs": [
        {
          "output_type": "execute_result",
          "data": {
            "text/plain": [
              "  year_concesion  amount  duration  payments    A11   A13  year    date  \\\n",
              "0             94   80952        24      3373  12541  0.43    54  940105   \n",
              "1             94   80952        24      3373  12541  0.43    59  940105   \n",
              "2             96   30276        12      2523   9104  2.07    60  960429   \n",
              "3             97   30276        12      2523   9893  4.72    37  971208   \n",
              "4             96  165960        24      6915   8427  1.54    55  960502   \n",
              "\n",
              "   criminality  label  \n",
              "0        99107      1  \n",
              "1        99107      1  \n",
              "2         2354      0  \n",
              "3         5887      1  \n",
              "4         1913      1  "
            ],
            "text/html": [
              "\n",
              "  <div id=\"df-c84e167c-579f-492a-9bbc-3c73b83c5a07\">\n",
              "    <div class=\"colab-df-container\">\n",
              "      <div>\n",
              "<style scoped>\n",
              "    .dataframe tbody tr th:only-of-type {\n",
              "        vertical-align: middle;\n",
              "    }\n",
              "\n",
              "    .dataframe tbody tr th {\n",
              "        vertical-align: top;\n",
              "    }\n",
              "\n",
              "    .dataframe thead th {\n",
              "        text-align: right;\n",
              "    }\n",
              "</style>\n",
              "<table border=\"1\" class=\"dataframe\">\n",
              "  <thead>\n",
              "    <tr style=\"text-align: right;\">\n",
              "      <th></th>\n",
              "      <th>year_concesion</th>\n",
              "      <th>amount</th>\n",
              "      <th>duration</th>\n",
              "      <th>payments</th>\n",
              "      <th>A11</th>\n",
              "      <th>A13</th>\n",
              "      <th>year</th>\n",
              "      <th>date</th>\n",
              "      <th>criminality</th>\n",
              "      <th>label</th>\n",
              "    </tr>\n",
              "  </thead>\n",
              "  <tbody>\n",
              "    <tr>\n",
              "      <th>0</th>\n",
              "      <td>94</td>\n",
              "      <td>80952</td>\n",
              "      <td>24</td>\n",
              "      <td>3373</td>\n",
              "      <td>12541</td>\n",
              "      <td>0.43</td>\n",
              "      <td>54</td>\n",
              "      <td>940105</td>\n",
              "      <td>99107</td>\n",
              "      <td>1</td>\n",
              "    </tr>\n",
              "    <tr>\n",
              "      <th>1</th>\n",
              "      <td>94</td>\n",
              "      <td>80952</td>\n",
              "      <td>24</td>\n",
              "      <td>3373</td>\n",
              "      <td>12541</td>\n",
              "      <td>0.43</td>\n",
              "      <td>59</td>\n",
              "      <td>940105</td>\n",
              "      <td>99107</td>\n",
              "      <td>1</td>\n",
              "    </tr>\n",
              "    <tr>\n",
              "      <th>2</th>\n",
              "      <td>96</td>\n",
              "      <td>30276</td>\n",
              "      <td>12</td>\n",
              "      <td>2523</td>\n",
              "      <td>9104</td>\n",
              "      <td>2.07</td>\n",
              "      <td>60</td>\n",
              "      <td>960429</td>\n",
              "      <td>2354</td>\n",
              "      <td>0</td>\n",
              "    </tr>\n",
              "    <tr>\n",
              "      <th>3</th>\n",
              "      <td>97</td>\n",
              "      <td>30276</td>\n",
              "      <td>12</td>\n",
              "      <td>2523</td>\n",
              "      <td>9893</td>\n",
              "      <td>4.72</td>\n",
              "      <td>37</td>\n",
              "      <td>971208</td>\n",
              "      <td>5887</td>\n",
              "      <td>1</td>\n",
              "    </tr>\n",
              "    <tr>\n",
              "      <th>4</th>\n",
              "      <td>96</td>\n",
              "      <td>165960</td>\n",
              "      <td>24</td>\n",
              "      <td>6915</td>\n",
              "      <td>8427</td>\n",
              "      <td>1.54</td>\n",
              "      <td>55</td>\n",
              "      <td>960502</td>\n",
              "      <td>1913</td>\n",
              "      <td>1</td>\n",
              "    </tr>\n",
              "  </tbody>\n",
              "</table>\n",
              "</div>\n",
              "      <button class=\"colab-df-convert\" onclick=\"convertToInteractive('df-c84e167c-579f-492a-9bbc-3c73b83c5a07')\"\n",
              "              title=\"Convert this dataframe to an interactive table.\"\n",
              "              style=\"display:none;\">\n",
              "        \n",
              "  <svg xmlns=\"http://www.w3.org/2000/svg\" height=\"24px\"viewBox=\"0 0 24 24\"\n",
              "       width=\"24px\">\n",
              "    <path d=\"M0 0h24v24H0V0z\" fill=\"none\"/>\n",
              "    <path d=\"M18.56 5.44l.94 2.06.94-2.06 2.06-.94-2.06-.94-.94-2.06-.94 2.06-2.06.94zm-11 1L8.5 8.5l.94-2.06 2.06-.94-2.06-.94L8.5 2.5l-.94 2.06-2.06.94zm10 10l.94 2.06.94-2.06 2.06-.94-2.06-.94-.94-2.06-.94 2.06-2.06.94z\"/><path d=\"M17.41 7.96l-1.37-1.37c-.4-.4-.92-.59-1.43-.59-.52 0-1.04.2-1.43.59L10.3 9.45l-7.72 7.72c-.78.78-.78 2.05 0 2.83L4 21.41c.39.39.9.59 1.41.59.51 0 1.02-.2 1.41-.59l7.78-7.78 2.81-2.81c.8-.78.8-2.07 0-2.86zM5.41 20L4 18.59l7.72-7.72 1.47 1.35L5.41 20z\"/>\n",
              "  </svg>\n",
              "      </button>\n",
              "      \n",
              "  <style>\n",
              "    .colab-df-container {\n",
              "      display:flex;\n",
              "      flex-wrap:wrap;\n",
              "      gap: 12px;\n",
              "    }\n",
              "\n",
              "    .colab-df-convert {\n",
              "      background-color: #E8F0FE;\n",
              "      border: none;\n",
              "      border-radius: 50%;\n",
              "      cursor: pointer;\n",
              "      display: none;\n",
              "      fill: #1967D2;\n",
              "      height: 32px;\n",
              "      padding: 0 0 0 0;\n",
              "      width: 32px;\n",
              "    }\n",
              "\n",
              "    .colab-df-convert:hover {\n",
              "      background-color: #E2EBFA;\n",
              "      box-shadow: 0px 1px 2px rgba(60, 64, 67, 0.3), 0px 1px 3px 1px rgba(60, 64, 67, 0.15);\n",
              "      fill: #174EA6;\n",
              "    }\n",
              "\n",
              "    [theme=dark] .colab-df-convert {\n",
              "      background-color: #3B4455;\n",
              "      fill: #D2E3FC;\n",
              "    }\n",
              "\n",
              "    [theme=dark] .colab-df-convert:hover {\n",
              "      background-color: #434B5C;\n",
              "      box-shadow: 0px 1px 3px 1px rgba(0, 0, 0, 0.15);\n",
              "      filter: drop-shadow(0px 1px 2px rgba(0, 0, 0, 0.3));\n",
              "      fill: #FFFFFF;\n",
              "    }\n",
              "  </style>\n",
              "\n",
              "      <script>\n",
              "        const buttonEl =\n",
              "          document.querySelector('#df-c84e167c-579f-492a-9bbc-3c73b83c5a07 button.colab-df-convert');\n",
              "        buttonEl.style.display =\n",
              "          google.colab.kernel.accessAllowed ? 'block' : 'none';\n",
              "\n",
              "        async function convertToInteractive(key) {\n",
              "          const element = document.querySelector('#df-c84e167c-579f-492a-9bbc-3c73b83c5a07');\n",
              "          const dataTable =\n",
              "            await google.colab.kernel.invokeFunction('convertToInteractive',\n",
              "                                                     [key], {});\n",
              "          if (!dataTable) return;\n",
              "\n",
              "          const docLinkHtml = 'Like what you see? Visit the ' +\n",
              "            '<a target=\"_blank\" href=https://colab.research.google.com/notebooks/data_table.ipynb>data table notebook</a>'\n",
              "            + ' to learn more about interactive tables.';\n",
              "          element.innerHTML = '';\n",
              "          dataTable['output_type'] = 'display_data';\n",
              "          await google.colab.output.renderOutput(dataTable, element);\n",
              "          const docLink = document.createElement('div');\n",
              "          docLink.innerHTML = docLinkHtml;\n",
              "          element.appendChild(docLink);\n",
              "        }\n",
              "      </script>\n",
              "    </div>\n",
              "  </div>\n",
              "  "
            ]
          },
          "metadata": {},
          "execution_count": 21
        }
      ]
    },
    {
      "cell_type": "code",
      "source": [
        "df_train_2.shape"
      ],
      "metadata": {
        "colab": {
          "base_uri": "https://localhost:8080/"
        },
        "id": "V3UfcHl-ny6n",
        "outputId": "10bd50f6-8178-4e44-962d-4dcabd1189d2"
      },
      "execution_count": 23,
      "outputs": [
        {
          "output_type": "execute_result",
          "data": {
            "text/plain": [
              "(289, 10)"
            ]
          },
          "metadata": {},
          "execution_count": 23
        }
      ]
    },
    {
      "cell_type": "markdown",
      "source": [
        "Ahora lo mismo pero con C y D"
      ],
      "metadata": {
        "id": "nIHMLaxsHn-g"
      }
    },
    {
      "cell_type": "code",
      "source": [
        "%%sql loans_test_2 << select substr(lo.date,0,3) year_concesion, amount, duration, payments, A11, A13, 99-substr(cl.birth_number,0,3) year ,lo.date, a16 criminality,\n",
        "  CASE status WHEN 'C' THEN 1 \n",
        "              WHEN 'D' THEN 0\n",
        "  END label\n",
        "\n",
        "  FROM LOAN lo inner join ACCOUNT ac on lo.account_id = ac.account_id\n",
        "             inner join DISPOSITION disp on ac.account_id = disp.account_id\n",
        "             inner join CLIENT cl on disp.client_id = cl.client_id\n",
        "             inner join DISTRICT dist on cl.district_id = dist.a1\n",
        "  Where lo.status in (\"C\", \"D\")"
      ],
      "metadata": {
        "colab": {
          "base_uri": "https://localhost:8080/"
        },
        "id": "GDqw-oW0Hp7L",
        "outputId": "55f8c58e-a527-4663-b501-dc44fa7433d9"
      },
      "execution_count": 26,
      "outputs": [
        {
          "output_type": "stream",
          "name": "stdout",
          "text": [
            " * sqlite:///data_berka.db\n",
            "Done.\n",
            "Returning data to local variable loans_test_2\n"
          ]
        }
      ]
    },
    {
      "cell_type": "code",
      "source": [
        "df_test_2 = loans_test_2.DataFrame()\n",
        "df_test_2.head()"
      ],
      "metadata": {
        "colab": {
          "base_uri": "https://localhost:8080/",
          "height": 204
        },
        "id": "b_BfrjYjHw5n",
        "outputId": "645db164-d6d7-4056-d79f-2e2fd25ec17e"
      },
      "execution_count": 27,
      "outputs": [
        {
          "output_type": "execute_result",
          "data": {
            "text/plain": [
              "  year_concesion  amount  duration  payments   A11   A13  year    date  \\\n",
              "0             98  318480        60      5308  8547  3.64    47  981014   \n",
              "1             98  110736        48      2307  8402  3.98    59  980419   \n",
              "2             97  265320        36      7370  8254  3.76    32  971206   \n",
              "3             98  352704        48      7348  9104  2.07    49  981205   \n",
              "4             97  162576        36      4516  9198  4.28    46  970908   \n",
              "\n",
              "   criminality  label  \n",
              "0         1542      0  \n",
              "1         1099      1  \n",
              "2         2325      0  \n",
              "3         2354      1  \n",
              "4         6132      1  "
            ],
            "text/html": [
              "\n",
              "  <div id=\"df-6383c959-1180-47ee-b953-8cd6b8c265c0\">\n",
              "    <div class=\"colab-df-container\">\n",
              "      <div>\n",
              "<style scoped>\n",
              "    .dataframe tbody tr th:only-of-type {\n",
              "        vertical-align: middle;\n",
              "    }\n",
              "\n",
              "    .dataframe tbody tr th {\n",
              "        vertical-align: top;\n",
              "    }\n",
              "\n",
              "    .dataframe thead th {\n",
              "        text-align: right;\n",
              "    }\n",
              "</style>\n",
              "<table border=\"1\" class=\"dataframe\">\n",
              "  <thead>\n",
              "    <tr style=\"text-align: right;\">\n",
              "      <th></th>\n",
              "      <th>year_concesion</th>\n",
              "      <th>amount</th>\n",
              "      <th>duration</th>\n",
              "      <th>payments</th>\n",
              "      <th>A11</th>\n",
              "      <th>A13</th>\n",
              "      <th>year</th>\n",
              "      <th>date</th>\n",
              "      <th>criminality</th>\n",
              "      <th>label</th>\n",
              "    </tr>\n",
              "  </thead>\n",
              "  <tbody>\n",
              "    <tr>\n",
              "      <th>0</th>\n",
              "      <td>98</td>\n",
              "      <td>318480</td>\n",
              "      <td>60</td>\n",
              "      <td>5308</td>\n",
              "      <td>8547</td>\n",
              "      <td>3.64</td>\n",
              "      <td>47</td>\n",
              "      <td>981014</td>\n",
              "      <td>1542</td>\n",
              "      <td>0</td>\n",
              "    </tr>\n",
              "    <tr>\n",
              "      <th>1</th>\n",
              "      <td>98</td>\n",
              "      <td>110736</td>\n",
              "      <td>48</td>\n",
              "      <td>2307</td>\n",
              "      <td>8402</td>\n",
              "      <td>3.98</td>\n",
              "      <td>59</td>\n",
              "      <td>980419</td>\n",
              "      <td>1099</td>\n",
              "      <td>1</td>\n",
              "    </tr>\n",
              "    <tr>\n",
              "      <th>2</th>\n",
              "      <td>97</td>\n",
              "      <td>265320</td>\n",
              "      <td>36</td>\n",
              "      <td>7370</td>\n",
              "      <td>8254</td>\n",
              "      <td>3.76</td>\n",
              "      <td>32</td>\n",
              "      <td>971206</td>\n",
              "      <td>2325</td>\n",
              "      <td>0</td>\n",
              "    </tr>\n",
              "    <tr>\n",
              "      <th>3</th>\n",
              "      <td>98</td>\n",
              "      <td>352704</td>\n",
              "      <td>48</td>\n",
              "      <td>7348</td>\n",
              "      <td>9104</td>\n",
              "      <td>2.07</td>\n",
              "      <td>49</td>\n",
              "      <td>981205</td>\n",
              "      <td>2354</td>\n",
              "      <td>1</td>\n",
              "    </tr>\n",
              "    <tr>\n",
              "      <th>4</th>\n",
              "      <td>97</td>\n",
              "      <td>162576</td>\n",
              "      <td>36</td>\n",
              "      <td>4516</td>\n",
              "      <td>9198</td>\n",
              "      <td>4.28</td>\n",
              "      <td>46</td>\n",
              "      <td>970908</td>\n",
              "      <td>6132</td>\n",
              "      <td>1</td>\n",
              "    </tr>\n",
              "  </tbody>\n",
              "</table>\n",
              "</div>\n",
              "      <button class=\"colab-df-convert\" onclick=\"convertToInteractive('df-6383c959-1180-47ee-b953-8cd6b8c265c0')\"\n",
              "              title=\"Convert this dataframe to an interactive table.\"\n",
              "              style=\"display:none;\">\n",
              "        \n",
              "  <svg xmlns=\"http://www.w3.org/2000/svg\" height=\"24px\"viewBox=\"0 0 24 24\"\n",
              "       width=\"24px\">\n",
              "    <path d=\"M0 0h24v24H0V0z\" fill=\"none\"/>\n",
              "    <path d=\"M18.56 5.44l.94 2.06.94-2.06 2.06-.94-2.06-.94-.94-2.06-.94 2.06-2.06.94zm-11 1L8.5 8.5l.94-2.06 2.06-.94-2.06-.94L8.5 2.5l-.94 2.06-2.06.94zm10 10l.94 2.06.94-2.06 2.06-.94-2.06-.94-.94-2.06-.94 2.06-2.06.94z\"/><path d=\"M17.41 7.96l-1.37-1.37c-.4-.4-.92-.59-1.43-.59-.52 0-1.04.2-1.43.59L10.3 9.45l-7.72 7.72c-.78.78-.78 2.05 0 2.83L4 21.41c.39.39.9.59 1.41.59.51 0 1.02-.2 1.41-.59l7.78-7.78 2.81-2.81c.8-.78.8-2.07 0-2.86zM5.41 20L4 18.59l7.72-7.72 1.47 1.35L5.41 20z\"/>\n",
              "  </svg>\n",
              "      </button>\n",
              "      \n",
              "  <style>\n",
              "    .colab-df-container {\n",
              "      display:flex;\n",
              "      flex-wrap:wrap;\n",
              "      gap: 12px;\n",
              "    }\n",
              "\n",
              "    .colab-df-convert {\n",
              "      background-color: #E8F0FE;\n",
              "      border: none;\n",
              "      border-radius: 50%;\n",
              "      cursor: pointer;\n",
              "      display: none;\n",
              "      fill: #1967D2;\n",
              "      height: 32px;\n",
              "      padding: 0 0 0 0;\n",
              "      width: 32px;\n",
              "    }\n",
              "\n",
              "    .colab-df-convert:hover {\n",
              "      background-color: #E2EBFA;\n",
              "      box-shadow: 0px 1px 2px rgba(60, 64, 67, 0.3), 0px 1px 3px 1px rgba(60, 64, 67, 0.15);\n",
              "      fill: #174EA6;\n",
              "    }\n",
              "\n",
              "    [theme=dark] .colab-df-convert {\n",
              "      background-color: #3B4455;\n",
              "      fill: #D2E3FC;\n",
              "    }\n",
              "\n",
              "    [theme=dark] .colab-df-convert:hover {\n",
              "      background-color: #434B5C;\n",
              "      box-shadow: 0px 1px 3px 1px rgba(0, 0, 0, 0.15);\n",
              "      filter: drop-shadow(0px 1px 2px rgba(0, 0, 0, 0.3));\n",
              "      fill: #FFFFFF;\n",
              "    }\n",
              "  </style>\n",
              "\n",
              "      <script>\n",
              "        const buttonEl =\n",
              "          document.querySelector('#df-6383c959-1180-47ee-b953-8cd6b8c265c0 button.colab-df-convert');\n",
              "        buttonEl.style.display =\n",
              "          google.colab.kernel.accessAllowed ? 'block' : 'none';\n",
              "\n",
              "        async function convertToInteractive(key) {\n",
              "          const element = document.querySelector('#df-6383c959-1180-47ee-b953-8cd6b8c265c0');\n",
              "          const dataTable =\n",
              "            await google.colab.kernel.invokeFunction('convertToInteractive',\n",
              "                                                     [key], {});\n",
              "          if (!dataTable) return;\n",
              "\n",
              "          const docLinkHtml = 'Like what you see? Visit the ' +\n",
              "            '<a target=\"_blank\" href=https://colab.research.google.com/notebooks/data_table.ipynb>data table notebook</a>'\n",
              "            + ' to learn more about interactive tables.';\n",
              "          element.innerHTML = '';\n",
              "          dataTable['output_type'] = 'display_data';\n",
              "          await google.colab.output.renderOutput(dataTable, element);\n",
              "          const docLink = document.createElement('div');\n",
              "          docLink.innerHTML = docLinkHtml;\n",
              "          element.appendChild(docLink);\n",
              "        }\n",
              "      </script>\n",
              "    </div>\n",
              "  </div>\n",
              "  "
            ]
          },
          "metadata": {},
          "execution_count": 27
        }
      ]
    },
    {
      "cell_type": "code",
      "source": [
        "df_test_2.shape"
      ],
      "metadata": {
        "colab": {
          "base_uri": "https://localhost:8080/"
        },
        "id": "-64bWxjSHzE4",
        "outputId": "4c9b6dd0-f495-4fc9-fb9d-19755fe4e593"
      },
      "execution_count": 28,
      "outputs": [
        {
          "output_type": "execute_result",
          "data": {
            "text/plain": [
              "(538, 10)"
            ]
          },
          "metadata": {},
          "execution_count": 28
        }
      ]
    },
    {
      "cell_type": "markdown",
      "source": [
        "Ahora se procederá a dividar en datos de prueba y entrenamiento"
      ],
      "metadata": {
        "id": "P8PBEReqH25a"
      }
    },
    {
      "cell_type": "code",
      "source": [
        "features = [\"year_concesion\", \"amount\", \"duration\", \"A11\", \"A13\", \"year\", \"date\", \"criminality\"]"
      ],
      "metadata": {
        "id": "Gck0o_-6IBHG"
      },
      "execution_count": 29,
      "outputs": []
    },
    {
      "cell_type": "code",
      "source": [
        "X_train_2 = df_train_2[features]\n",
        "y_train_2 = df_train_2[\"label\"]\n",
        "\n",
        "X_test_2 = df_test_2[features]\n",
        "y_test_2 = df_test_2[\"label\"]"
      ],
      "metadata": {
        "id": "Xyb9gzk7IG47"
      },
      "execution_count": 30,
      "outputs": []
    },
    {
      "cell_type": "code",
      "source": [
        "scaler = StandardScaler()\n",
        "# calculo de los factores de centrado y escalado\n",
        "scaler.fit(X_train_2) \n",
        "# transformación\n",
        "X_train_2 = scaler.transform(X_train_2)\n",
        "X_test_2 = scaler.transform(X_test_2)"
      ],
      "metadata": {
        "id": "cL_MxKOkIJFb"
      },
      "execution_count": 31,
      "outputs": []
    },
    {
      "cell_type": "code",
      "source": [
        "gnb = GaussianNB()\n",
        "clf = gnb.fit(X_train_2, y_train_2)\n",
        "y_pred = clf.predict(X_test_2)\n",
        "print(\"Préstamos mal clasificados %d de un total de  %d\"  % (X_test_2.shape[0], (y_test_2 != y_pred).sum()))\n"
      ],
      "metadata": {
        "colab": {
          "base_uri": "https://localhost:8080/"
        },
        "id": "RMljjpxmIKNB",
        "outputId": "1f35367b-a745-4246-ae0e-ec314d552826"
      },
      "execution_count": 33,
      "outputs": [
        {
          "output_type": "stream",
          "name": "stdout",
          "text": [
            "Préstamos mal clasificados 538 de un total de  149\n"
          ]
        }
      ]
    },
    {
      "cell_type": "code",
      "source": [
        "print(classification_report(y_test_2, y_pred, labels=clf.classes_))"
      ],
      "metadata": {
        "colab": {
          "base_uri": "https://localhost:8080/"
        },
        "id": "u-qtXhD7IZOq",
        "outputId": "0663cdfe-9305-4b87-8b79-88943b4e604c"
      },
      "execution_count": 35,
      "outputs": [
        {
          "output_type": "stream",
          "name": "stdout",
          "text": [
            "              precision    recall  f1-score   support\n",
            "\n",
            "           0       0.16      0.53      0.24        45\n",
            "           1       0.95      0.74      0.83       493\n",
            "\n",
            "    accuracy                           0.72       538\n",
            "   macro avg       0.55      0.64      0.54       538\n",
            "weighted avg       0.88      0.72      0.78       538\n",
            "\n"
          ]
        }
      ]
    },
    {
      "cell_type": "code",
      "source": [
        "cm = confusion_matrix(y_test_2, y_pred, labels= clf.classes_)\n",
        "disp = ConfusionMatrixDisplay(confusion_matrix=cm, display_labels=clf.classes_)\n",
        "disp.plot()"
      ],
      "metadata": {
        "colab": {
          "base_uri": "https://localhost:8080/",
          "height": 296
        },
        "id": "10_-C7VtIiev",
        "outputId": "a07cc2c1-be37-46f9-b350-4d7a87c650e9"
      },
      "execution_count": 36,
      "outputs": [
        {
          "output_type": "execute_result",
          "data": {
            "text/plain": [
              "<sklearn.metrics._plot.confusion_matrix.ConfusionMatrixDisplay at 0x7f5bbe5ddd10>"
            ]
          },
          "metadata": {},
          "execution_count": 36
        },
        {
          "output_type": "display_data",
          "data": {
            "text/plain": [
              "<Figure size 432x288 with 2 Axes>"
            ],
            "image/png": "[encoded data removed]"
          },
          "metadata": {
            "needs_background": "light"
          }
        }
      ]
    },
    {
      "cell_type": "markdown",
      "source": [
        "La probabilidad de acierto del modelo es de 365+24=389\n",
        "389/538= 0,72 -> 72%"
      ],
      "metadata": {
        "id": "Wl26NBFkIs0B"
      }
    }
  ]
}